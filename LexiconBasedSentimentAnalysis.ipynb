{
 "cells": [
  {
   "cell_type": "code",
   "execution_count": 1,
   "metadata": {},
   "outputs": [],
   "source": [
    "file = open(\"F:\\\\Data\\\\tweetset.csv\", encoding=\"utf8\")"
   ]
  },
  {
   "cell_type": "code",
   "execution_count": 2,
   "metadata": {},
   "outputs": [],
   "source": [
    "data_dump = file.readlines()[0:5]"
   ]
  },
  {
   "cell_type": "code",
   "execution_count": 3,
   "metadata": {},
   "outputs": [],
   "source": [
    "no_records = len(data_dump)"
   ]
  },
  {
   "cell_type": "code",
   "execution_count": 4,
   "metadata": {},
   "outputs": [
    {
     "name": "stdout",
     "output_type": "stream",
     "text": [
      "5\n"
     ]
    }
   ],
   "source": [
    "print(no_records)"
   ]
  },
  {
   "cell_type": "code",
   "execution_count": 5,
   "metadata": {},
   "outputs": [
    {
     "data": {
      "text/plain": [
       "['330048330073772000.00,5/2/2013 19:57,\"RETWEET\"\"@NP0_: Amen to this&gt;&gt;&gt;\"\"@Faaaiith_: Robert Downey Jr. You perfect human being.\"\"\"\"\"\\n',\n",
       " '330048334314225000.00,5/2/2013 19:57,#Nw Iron man 3\\n',\n",
       " '330048334725255000.00,5/2/2013 19:57,what if @elonmusk played Tony Stark in #ironman4?\\n',\n",
       " '330048336541413000.00,5/2/2013 19:57,11 Things You Need To Know Before Seeing Iron Man 3: From The Ten Rings to Roxxon. http://t.co/AynZ16mAfB\\n',\n",
       " '330048338114256000.00,5/2/2013 19:57,I want to see Mac Miller as bad as I want to see Iron Man 3\\n']"
      ]
     },
     "execution_count": 5,
     "metadata": {},
     "output_type": "execute_result"
    }
   ],
   "source": [
    "data_dump"
   ]
  },
  {
   "cell_type": "code",
   "execution_count": 6,
   "metadata": {},
   "outputs": [
    {
     "name": "stdout",
     "output_type": "stream",
     "text": [
      "['330048330073772000.00,5/2/2013 19:57,\"RETWEET\"\"@NP0_: Amen to this&gt;&gt;&gt;\"\"@Faaaiith_: Robert Downey Jr. You perfect human being.\"\"\"\"\"\\n', '330048334314225000.00,5/2/2013 19:57,#Nw Iron man 3\\n', '330048334725255000.00,5/2/2013 19:57,what if @elonmusk played Tony Stark in #ironman4?\\n', '330048336541413000.00,5/2/2013 19:57,11 Things You Need To Know Before Seeing Iron Man 3: From The Ten Rings to Roxxon. http://t.co/AynZ16mAfB\\n', '330048338114256000.00,5/2/2013 19:57,I want to see Mac Miller as bad as I want to see Iron Man 3\\n']\n",
      "Word_list\n",
      "[]\n",
      "Stripped records\n",
      "record\n",
      "330048330073772000.00,5/2/2013 19:57,\"RETWEET\"\"@NP0_: Amen to this&gt;&gt;&gt;\"\"@Faaaiith_: Robert Downey Jr. You perfect human being.\"\"\"\"\"\n",
      "\n",
      "Tokens\n",
      "['330048330073772000.00,5/2/2013', '19:57,\"RETWEET\"\"@NP0_:', 'Amen', 'to', 'this&gt;&gt;&gt;\"\"@Faaaiith_:', 'Robert', 'Downey', 'Jr.', 'You', 'perfect', 'human', 'being.\"\"\"\"\"']\n",
      "record\n",
      "330048334314225000.00,5/2/2013 19:57,#Nw Iron man 3\n",
      "\n",
      "Tokens\n",
      "['330048334314225000.00,5/2/2013', '19:57,#Nw', 'Iron', 'man', '3']\n",
      "record\n",
      "330048334725255000.00,5/2/2013 19:57,what if @elonmusk played Tony Stark in #ironman4?\n",
      "\n",
      "Tokens\n",
      "['330048334725255000.00,5/2/2013', '19:57,what', 'if', '@elonmusk', 'played', 'Tony', 'Stark', 'in', '#ironman4?']\n",
      "record\n",
      "330048336541413000.00,5/2/2013 19:57,11 Things You Need To Know Before Seeing Iron Man 3: From The Ten Rings to Roxxon. http://t.co/AynZ16mAfB\n",
      "\n",
      "Tokens\n",
      "['330048336541413000.00,5/2/2013', '19:57,11', 'Things', 'You', 'Need', 'To', 'Know', 'Before', 'Seeing', 'Iron', 'Man', '3:', 'From', 'The', 'Ten', 'Rings', 'to', 'Roxxon.', 'http://t.co/AynZ16mAfB']\n",
      "record\n",
      "330048338114256000.00,5/2/2013 19:57,I want to see Mac Miller as bad as I want to see Iron Man 3\n",
      "\n",
      "Tokens\n",
      "['330048338114256000.00,5/2/2013', '19:57,I', 'want', 'to', 'see', 'Mac', 'Miller', 'as', 'bad', 'as', 'I', 'want', 'to', 'see', 'Iron', 'Man', '3']\n"
     ]
    }
   ],
   "source": [
    "word_list=[]\n",
    "print(data_dump)\n",
    "word_list=[]\n",
    "print(\"Word_list\")\n",
    "print(word_list)\n",
    "print(\"Stripped records\")\n",
    "for record in data_dump:\n",
    "    print(\"record\")\n",
    "    print(record)\n",
    "    tokens=record.split()\n",
    "    print(\"Tokens\")\n",
    "    print(tokens)\n",
    "    for word in word_list:\n",
    "        words.append(word.lower())\n",
    "        word_list.append(record.split())\n",
    "        print(\"Word list\")\n",
    "        print(word_list)"
   ]
  },
  {
   "cell_type": "code",
   "execution_count": 7,
   "metadata": {},
   "outputs": [
    {
     "name": "stdout",
     "output_type": "stream",
     "text": [
      "[]\n",
      "S\n",
      "330048330073772000.00,5/2/2013 19:57,\"RETWEET\"\"@NP0_: Amen to this&gt;&gt;&gt;\"\"@Faaaiith_: Robert Downey Jr. You perfect human being.\"\"\"\"\"\n",
      "\n",
      "330048334314225000.00,5/2/2013 19:57,#Nw Iron man 3\n",
      "\n",
      "330048334725255000.00,5/2/2013 19:57,what if @elonmusk played Tony Stark in #ironman4?\n",
      "\n",
      "330048336541413000.00,5/2/2013 19:57,11 Things You Need To Know Before Seeing Iron Man 3: From The Ten Rings to Roxxon. http://t.co/AynZ16mAfB\n",
      "\n",
      "330048338114256000.00,5/2/2013 19:57,I want to see Mac Miller as bad as I want to see Iron Man 3\n",
      "\n"
     ]
    }
   ],
   "source": [
    "word_list= []\n",
    "print(word_list)\n",
    "print(\"S\")\n",
    "for record in data_dump:\n",
    "    print (record)"
   ]
  },
  {
   "cell_type": "code",
   "execution_count": 8,
   "metadata": {},
   "outputs": [],
   "source": [
    "#Strip the records and create a word list for each tweet\n",
    "word_list = []\n",
    "for record in (data_dump):\n",
    "    #print(record)\n",
    "    words = []\n",
    "    tokens = record.split()\n",
    "    #print(tokens)\n",
    "    for token in tokens:\n",
    "        words.append(token.lower())\n",
    "    word_list.append(words)  \n",
    "    \n",
    "#word_list "
   ]
  },
  {
   "cell_type": "code",
   "execution_count": 9,
   "metadata": {},
   "outputs": [],
   "source": [
    "lex_file = open(\"F:\\\\Data\\\\AFINN-111.csv\")"
   ]
  },
  {
   "cell_type": "code",
   "execution_count": 10,
   "metadata": {},
   "outputs": [],
   "source": [
    "lexicons = {}\n",
    "records = lex_file.readlines()\n",
    "for record in records:\n",
    "    #print(record) # line contains newline charecter\n",
    "    #print(record.rstrip('\\n').split(\",\")) - to remove new line charecter\n",
    "    lexicons[record.rstrip('\\n').split(\",\")[0]] = int(record.rstrip('\\n').split(\",\")[1])\n",
    "#print(lexicons)\n",
    "#lexicons[\"abandon\"]"
   ]
  },
  {
   "cell_type": "code",
   "execution_count": 1,
   "metadata": {},
   "outputs": [
    {
     "ename": "NameError",
     "evalue": "name 'word_list' is not defined",
     "output_type": "error",
     "traceback": [
      "\u001b[1;31m---------------------------------------------------------------------------\u001b[0m",
      "\u001b[1;31mNameError\u001b[0m                                 Traceback (most recent call last)",
      "\u001b[1;32m<ipython-input-1-46d4e05cc8f0>\u001b[0m in \u001b[0;36m<module>\u001b[1;34m\u001b[0m\n\u001b[0;32m      4\u001b[0m \u001b[1;31m#Add all the scores and find the ploarity\u001b[0m\u001b[1;33m\u001b[0m\u001b[1;33m\u001b[0m\u001b[1;33m\u001b[0m\u001b[0m\n\u001b[0;32m      5\u001b[0m \u001b[0mstrength\u001b[0m \u001b[1;33m=\u001b[0m \u001b[1;33m[\u001b[0m\u001b[1;33m]\u001b[0m\u001b[1;33m\u001b[0m\u001b[1;33m\u001b[0m\u001b[0m\n\u001b[1;32m----> 6\u001b[1;33m \u001b[1;32mfor\u001b[0m \u001b[0mtweet\u001b[0m \u001b[1;32min\u001b[0m \u001b[0mword_list\u001b[0m\u001b[1;33m:\u001b[0m\u001b[1;33m\u001b[0m\u001b[1;33m\u001b[0m\u001b[0m\n\u001b[0m\u001b[0;32m      7\u001b[0m     \u001b[0mscore\u001b[0m \u001b[1;33m=\u001b[0m \u001b[1;36m0\u001b[0m\u001b[1;33m\u001b[0m\u001b[1;33m\u001b[0m\u001b[0m\n\u001b[0;32m      8\u001b[0m     \u001b[1;32mfor\u001b[0m \u001b[0mword\u001b[0m \u001b[1;32min\u001b[0m \u001b[0mtweet\u001b[0m\u001b[1;33m:\u001b[0m\u001b[1;33m\u001b[0m\u001b[1;33m\u001b[0m\u001b[0m\n",
      "\u001b[1;31mNameError\u001b[0m: name 'word_list' is not defined"
     ]
    }
   ],
   "source": [
    "#For each tweet\n",
    "#For each word in tweet\n",
    "#Get the word score (score is a numbe rif the word is in Lexicon, 0 if not)\n",
    "#Add all the scores and find the ploarity\n",
    "strength = []\n",
    "for tweet in word_list:\n",
    "    score = 0\n",
    "    for word in tweet:\n",
    "        if word in (lexicons):\n",
    "            score = score + lexicons[word]\n",
    "    strength.append(score)\n",
    "#print(strength)"
   ]
  },
  {
   "cell_type": "code",
   "execution_count": 12,
   "metadata": {},
   "outputs": [],
   "source": [
    "#n = len(word_list)\n",
    "#for index in range(n):\n",
    "    #print(word_list[index], strength[index])\n",
    "#Add a new list with polarity and a list score"
   ]
  },
  {
   "cell_type": "code",
   "execution_count": 13,
   "metadata": {},
   "outputs": [],
   "source": [
    "import pandas as pd\n",
    "#dir(pd)"
   ]
  },
  {
   "cell_type": "code",
   "execution_count": 14,
   "metadata": {},
   "outputs": [],
   "source": [
    "senti_matrix = pd.DataFrame(strength, data_dump)"
   ]
  },
  {
   "cell_type": "code",
   "execution_count": 15,
   "metadata": {},
   "outputs": [
    {
     "data": {
      "text/html": [
       "<div>\n",
       "<style scoped>\n",
       "    .dataframe tbody tr th:only-of-type {\n",
       "        vertical-align: middle;\n",
       "    }\n",
       "\n",
       "    .dataframe tbody tr th {\n",
       "        vertical-align: top;\n",
       "    }\n",
       "\n",
       "    .dataframe thead th {\n",
       "        text-align: right;\n",
       "    }\n",
       "</style>\n",
       "<table border=\"1\" class=\"dataframe\">\n",
       "  <thead>\n",
       "    <tr style=\"text-align: right;\">\n",
       "      <th></th>\n",
       "      <th>0</th>\n",
       "    </tr>\n",
       "  </thead>\n",
       "  <tbody>\n",
       "    <tr>\n",
       "      <th>330048330073772000.00,5/2/2013 19:57,\"RETWEET\"\"@NP0_: Amen to this&amp;gt;&amp;gt;&amp;gt;\"\"@Faaaiith_: Robert Downey Jr. You perfect human being.\"\"\"\"\"\\n</th>\n",
       "      <td>3</td>\n",
       "    </tr>\n",
       "    <tr>\n",
       "      <th>330048334314225000.00,5/2/2013 19:57,#Nw Iron man 3\\n</th>\n",
       "      <td>0</td>\n",
       "    </tr>\n",
       "    <tr>\n",
       "      <th>330048334725255000.00,5/2/2013 19:57,what if @elonmusk played Tony Stark in #ironman4?\\n</th>\n",
       "      <td>0</td>\n",
       "    </tr>\n",
       "    <tr>\n",
       "      <th>330048336541413000.00,5/2/2013 19:57,11 Things You Need To Know Before Seeing Iron Man 3: From The Ten Rings to Roxxon. http://t.co/AynZ16mAfB\\n</th>\n",
       "      <td>0</td>\n",
       "    </tr>\n",
       "    <tr>\n",
       "      <th>330048338114256000.00,5/2/2013 19:57,I want to see Mac Miller as bad as I want to see Iron Man 3\\n</th>\n",
       "      <td>-1</td>\n",
       "    </tr>\n",
       "  </tbody>\n",
       "</table>\n",
       "</div>"
      ],
      "text/plain": [
       "                                                    0\n",
       "330048330073772000.00,5/2/2013 19:57,\"RETWEET\"\"...  3\n",
       "330048334314225000.00,5/2/2013 19:57,#Nw Iron m...  0\n",
       "330048334725255000.00,5/2/2013 19:57,what if @e...  0\n",
       "330048336541413000.00,5/2/2013 19:57,11 Things ...  0\n",
       "330048338114256000.00,5/2/2013 19:57,I want to ... -1"
      ]
     },
     "execution_count": 15,
     "metadata": {},
     "output_type": "execute_result"
    }
   ],
   "source": [
    "senti_matrix[0:5]"
   ]
  },
  {
   "cell_type": "code",
   "execution_count": null,
   "metadata": {},
   "outputs": [],
   "source": []
  },
  {
   "cell_type": "code",
   "execution_count": null,
   "metadata": {},
   "outputs": [],
   "source": []
  }
 ],
 "metadata": {
  "kernelspec": {
   "display_name": "Python 3",
   "language": "python",
   "name": "python3"
  },
  "language_info": {
   "codemirror_mode": {
    "name": "ipython",
    "version": 3
   },
   "file_extension": ".py",
   "mimetype": "text/x-python",
   "name": "python",
   "nbconvert_exporter": "python",
   "pygments_lexer": "ipython3",
   "version": "3.7.1"
  }
 },
 "nbformat": 4,
 "nbformat_minor": 2
}
