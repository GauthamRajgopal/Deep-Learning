{
 "cells": [
  {
   "cell_type": "markdown",
   "metadata": {},
   "source": [
    "## Step 1:Import the Cereals Data"
   ]
  },
  {
   "cell_type": "code",
   "execution_count": 8,
   "metadata": {},
   "outputs": [
    {
     "data": {
      "text/html": [
       "<div>\n",
       "<style scoped>\n",
       "    .dataframe tbody tr th:only-of-type {\n",
       "        vertical-align: middle;\n",
       "    }\n",
       "\n",
       "    .dataframe tbody tr th {\n",
       "        vertical-align: top;\n",
       "    }\n",
       "\n",
       "    .dataframe thead th {\n",
       "        text-align: right;\n",
       "    }\n",
       "</style>\n",
       "<table border=\"1\" class=\"dataframe\">\n",
       "  <thead>\n",
       "    <tr style=\"text-align: right;\">\n",
       "      <th></th>\n",
       "      <th>Cereal Name</th>\n",
       "      <th>Manufacturer</th>\n",
       "      <th>Type</th>\n",
       "      <th>Calories</th>\n",
       "      <th>Protein (g)</th>\n",
       "      <th>Fat</th>\n",
       "      <th>Sodium</th>\n",
       "      <th>Dietary Fiber</th>\n",
       "      <th>Carbs</th>\n",
       "      <th>Sugars</th>\n",
       "      <th>Display Shelf</th>\n",
       "      <th>Potassium</th>\n",
       "      <th>Vitamins and Minerals</th>\n",
       "      <th>Serving Size Weight</th>\n",
       "      <th>Cups per Serving</th>\n",
       "    </tr>\n",
       "  </thead>\n",
       "  <tbody>\n",
       "    <tr>\n",
       "      <th>0</th>\n",
       "      <td>100%_Bran</td>\n",
       "      <td>Nabisco</td>\n",
       "      <td>C</td>\n",
       "      <td>70</td>\n",
       "      <td>4</td>\n",
       "      <td>1</td>\n",
       "      <td>130</td>\n",
       "      <td>10.0</td>\n",
       "      <td>5.0</td>\n",
       "      <td>6</td>\n",
       "      <td>3</td>\n",
       "      <td>280</td>\n",
       "      <td>25</td>\n",
       "      <td>1.0</td>\n",
       "      <td>0.33</td>\n",
       "    </tr>\n",
       "    <tr>\n",
       "      <th>1</th>\n",
       "      <td>100%_Natural_Bran</td>\n",
       "      <td>Quaker Oats</td>\n",
       "      <td>C</td>\n",
       "      <td>120</td>\n",
       "      <td>3</td>\n",
       "      <td>5</td>\n",
       "      <td>15</td>\n",
       "      <td>2.0</td>\n",
       "      <td>8.0</td>\n",
       "      <td>8</td>\n",
       "      <td>3</td>\n",
       "      <td>135</td>\n",
       "      <td>0</td>\n",
       "      <td>1.0</td>\n",
       "      <td>-1.00</td>\n",
       "    </tr>\n",
       "    <tr>\n",
       "      <th>2</th>\n",
       "      <td>All-Bran</td>\n",
       "      <td>Kelloggs</td>\n",
       "      <td>C</td>\n",
       "      <td>70</td>\n",
       "      <td>4</td>\n",
       "      <td>1</td>\n",
       "      <td>260</td>\n",
       "      <td>9.0</td>\n",
       "      <td>7.0</td>\n",
       "      <td>5</td>\n",
       "      <td>3</td>\n",
       "      <td>320</td>\n",
       "      <td>25</td>\n",
       "      <td>1.0</td>\n",
       "      <td>0.33</td>\n",
       "    </tr>\n",
       "    <tr>\n",
       "      <th>3</th>\n",
       "      <td>All-Bran_with_Extra_Fiber</td>\n",
       "      <td>Kelloggs</td>\n",
       "      <td>C</td>\n",
       "      <td>50</td>\n",
       "      <td>4</td>\n",
       "      <td>0</td>\n",
       "      <td>140</td>\n",
       "      <td>14.0</td>\n",
       "      <td>8.0</td>\n",
       "      <td>0</td>\n",
       "      <td>3</td>\n",
       "      <td>330</td>\n",
       "      <td>25</td>\n",
       "      <td>1.0</td>\n",
       "      <td>0.50</td>\n",
       "    </tr>\n",
       "    <tr>\n",
       "      <th>4</th>\n",
       "      <td>Almond_Delight</td>\n",
       "      <td>Ralston Purina</td>\n",
       "      <td>C</td>\n",
       "      <td>110</td>\n",
       "      <td>2</td>\n",
       "      <td>2</td>\n",
       "      <td>200</td>\n",
       "      <td>1.0</td>\n",
       "      <td>14.0</td>\n",
       "      <td>8</td>\n",
       "      <td>3</td>\n",
       "      <td>-1</td>\n",
       "      <td>25</td>\n",
       "      <td>1.0</td>\n",
       "      <td>0.75</td>\n",
       "    </tr>\n",
       "  </tbody>\n",
       "</table>\n",
       "</div>"
      ],
      "text/plain": [
       "                 Cereal Name    Manufacturer Type  Calories  Protein (g)  Fat  \\\n",
       "0                  100%_Bran         Nabisco    C        70            4    1   \n",
       "1          100%_Natural_Bran     Quaker Oats    C       120            3    5   \n",
       "2                   All-Bran        Kelloggs    C        70            4    1   \n",
       "3  All-Bran_with_Extra_Fiber        Kelloggs    C        50            4    0   \n",
       "4             Almond_Delight  Ralston Purina    C       110            2    2   \n",
       "\n",
       "   Sodium  Dietary Fiber  Carbs  Sugars  Display Shelf  Potassium  \\\n",
       "0     130           10.0    5.0       6              3        280   \n",
       "1      15            2.0    8.0       8              3        135   \n",
       "2     260            9.0    7.0       5              3        320   \n",
       "3     140           14.0    8.0       0              3        330   \n",
       "4     200            1.0   14.0       8              3         -1   \n",
       "\n",
       "   Vitamins and Minerals  Serving Size Weight  Cups per Serving  \n",
       "0                     25                  1.0              0.33  \n",
       "1                      0                  1.0             -1.00  \n",
       "2                     25                  1.0              0.33  \n",
       "3                     25                  1.0              0.50  \n",
       "4                     25                  1.0              0.75  "
      ]
     },
     "execution_count": 8,
     "metadata": {},
     "output_type": "execute_result"
    }
   ],
   "source": [
    "#Import CSV file\n",
    "import numpy as np\n",
    "import pandas as pd\n",
    "dfcereal=pd.read_csv('F://Data/cereal.csv',sep=\",\")\n",
    "dfcereal.head()"
   ]
  },
  {
   "cell_type": "code",
   "execution_count": 9,
   "metadata": {},
   "outputs": [],
   "source": [
    "#print many statements at the same time using the below command\n",
    "from IPython.core.interactiveshell import InteractiveShell\n",
    "InteractiveShell.ast_node_interactivity = \"all\""
   ]
  },
  {
   "cell_type": "code",
   "execution_count": 13,
   "metadata": {},
   "outputs": [
    {
     "data": {
      "text/plain": [
       "(74, 15)"
      ]
     },
     "execution_count": 13,
     "metadata": {},
     "output_type": "execute_result"
    },
    {
     "data": {
      "text/plain": [
       "Index(['Cereal Name', 'Manufacturer', 'Type', 'Calories', 'Protein (g)', 'Fat',\n",
       "       'Sodium', 'Dietary Fiber', 'Carbs', 'Sugars', 'Display Shelf',\n",
       "       'Potassium', 'Vitamins and Minerals', 'Serving Size Weight',\n",
       "       'Cups per Serving'],\n",
       "      dtype='object')"
      ]
     },
     "execution_count": 13,
     "metadata": {},
     "output_type": "execute_result"
    }
   ],
   "source": [
    "#find the number of rows and columns\n",
    "dfcereal.shape\n",
    "dfcereal.columns"
   ]
  },
  {
   "cell_type": "code",
   "execution_count": 12,
   "metadata": {},
   "outputs": [
    {
     "data": {
      "text/html": [
       "<div>\n",
       "<style scoped>\n",
       "    .dataframe tbody tr th:only-of-type {\n",
       "        vertical-align: middle;\n",
       "    }\n",
       "\n",
       "    .dataframe tbody tr th {\n",
       "        vertical-align: top;\n",
       "    }\n",
       "\n",
       "    .dataframe thead th {\n",
       "        text-align: right;\n",
       "    }\n",
       "</style>\n",
       "<table border=\"1\" class=\"dataframe\">\n",
       "  <thead>\n",
       "    <tr style=\"text-align: right;\">\n",
       "      <th></th>\n",
       "      <th>Calories</th>\n",
       "      <th>Carbs</th>\n",
       "      <th>Cups per Serving</th>\n",
       "      <th>Dietary Fiber</th>\n",
       "      <th>Display Shelf</th>\n",
       "      <th>Fat</th>\n",
       "      <th>Potassium</th>\n",
       "      <th>Protein (g)</th>\n",
       "      <th>Serving Size Weight</th>\n",
       "      <th>Sodium</th>\n",
       "      <th>Sugars</th>\n",
       "      <th>Vitamins and Minerals</th>\n",
       "    </tr>\n",
       "    <tr>\n",
       "      <th>Manufacturer</th>\n",
       "      <th></th>\n",
       "      <th></th>\n",
       "      <th></th>\n",
       "      <th></th>\n",
       "      <th></th>\n",
       "      <th></th>\n",
       "      <th></th>\n",
       "      <th></th>\n",
       "      <th></th>\n",
       "      <th></th>\n",
       "      <th></th>\n",
       "      <th></th>\n",
       "    </tr>\n",
       "  </thead>\n",
       "  <tbody>\n",
       "    <tr>\n",
       "      <th>American Home Food Products</th>\n",
       "      <td>100</td>\n",
       "      <td>16.00</td>\n",
       "      <td>-1.000</td>\n",
       "      <td>0.0</td>\n",
       "      <td>2.0</td>\n",
       "      <td>1.0</td>\n",
       "      <td>95.0</td>\n",
       "      <td>4.0</td>\n",
       "      <td>1.0</td>\n",
       "      <td>0.0</td>\n",
       "      <td>3.0</td>\n",
       "      <td>25.0</td>\n",
       "    </tr>\n",
       "    <tr>\n",
       "      <th>General Mills</th>\n",
       "      <td>110</td>\n",
       "      <td>14.25</td>\n",
       "      <td>0.875</td>\n",
       "      <td>1.5</td>\n",
       "      <td>2.0</td>\n",
       "      <td>1.0</td>\n",
       "      <td>80.0</td>\n",
       "      <td>2.0</td>\n",
       "      <td>1.0</td>\n",
       "      <td>200.0</td>\n",
       "      <td>8.5</td>\n",
       "      <td>25.0</td>\n",
       "    </tr>\n",
       "    <tr>\n",
       "      <th>Kelloggs</th>\n",
       "      <td>110</td>\n",
       "      <td>15.00</td>\n",
       "      <td>0.750</td>\n",
       "      <td>1.0</td>\n",
       "      <td>3.0</td>\n",
       "      <td>0.0</td>\n",
       "      <td>60.0</td>\n",
       "      <td>3.0</td>\n",
       "      <td>1.0</td>\n",
       "      <td>170.0</td>\n",
       "      <td>7.0</td>\n",
       "      <td>25.0</td>\n",
       "    </tr>\n",
       "    <tr>\n",
       "      <th>Nabisco</th>\n",
       "      <td>90</td>\n",
       "      <td>17.50</td>\n",
       "      <td>0.500</td>\n",
       "      <td>3.0</td>\n",
       "      <td>1.5</td>\n",
       "      <td>0.0</td>\n",
       "      <td>107.5</td>\n",
       "      <td>3.0</td>\n",
       "      <td>1.0</td>\n",
       "      <td>7.5</td>\n",
       "      <td>0.0</td>\n",
       "      <td>0.0</td>\n",
       "    </tr>\n",
       "    <tr>\n",
       "      <th>Post</th>\n",
       "      <td>110</td>\n",
       "      <td>13.00</td>\n",
       "      <td>0.710</td>\n",
       "      <td>3.0</td>\n",
       "      <td>3.0</td>\n",
       "      <td>0.5</td>\n",
       "      <td>87.5</td>\n",
       "      <td>3.0</td>\n",
       "      <td>1.0</td>\n",
       "      <td>155.0</td>\n",
       "      <td>8.0</td>\n",
       "      <td>25.0</td>\n",
       "    </tr>\n",
       "  </tbody>\n",
       "</table>\n",
       "</div>"
      ],
      "text/plain": [
       "                             Calories  Carbs  Cups per Serving  Dietary Fiber  \\\n",
       "Manufacturer                                                                    \n",
       "American Home Food Products       100  16.00            -1.000            0.0   \n",
       "General Mills                     110  14.25             0.875            1.5   \n",
       "Kelloggs                          110  15.00             0.750            1.0   \n",
       "Nabisco                            90  17.50             0.500            3.0   \n",
       "Post                              110  13.00             0.710            3.0   \n",
       "\n",
       "                             Display Shelf  Fat  Potassium  Protein (g)  \\\n",
       "Manufacturer                                                              \n",
       "American Home Food Products            2.0  1.0       95.0          4.0   \n",
       "General Mills                          2.0  1.0       80.0          2.0   \n",
       "Kelloggs                               3.0  0.0       60.0          3.0   \n",
       "Nabisco                                1.5  0.0      107.5          3.0   \n",
       "Post                                   3.0  0.5       87.5          3.0   \n",
       "\n",
       "                             Serving Size Weight  Sodium  Sugars  \\\n",
       "Manufacturer                                                       \n",
       "American Home Food Products                  1.0     0.0     3.0   \n",
       "General Mills                                1.0   200.0     8.5   \n",
       "Kelloggs                                     1.0   170.0     7.0   \n",
       "Nabisco                                      1.0     7.5     0.0   \n",
       "Post                                         1.0   155.0     8.0   \n",
       "\n",
       "                             Vitamins and Minerals  \n",
       "Manufacturer                                        \n",
       "American Home Food Products                   25.0  \n",
       "General Mills                                 25.0  \n",
       "Kelloggs                                      25.0  \n",
       "Nabisco                                        0.0  \n",
       "Post                                          25.0  "
      ]
     },
     "execution_count": 12,
     "metadata": {},
     "output_type": "execute_result"
    },
    {
     "data": {
      "text/plain": [
       "(7, 12)"
      ]
     },
     "execution_count": 12,
     "metadata": {},
     "output_type": "execute_result"
    }
   ],
   "source": [
    "#aggregate information at the store level\n",
    "df_pivot = pd.pivot_table(dfcereal,values=['Cereal Name','Type','Calories','Calories', 'Protein (g)', 'Fat',\n",
    "       'Sodium', 'Dietary Fiber', 'Carbs', 'Sugars', 'Display Shelf',\n",
    "       'Potassium', 'Vitamins and Minerals', 'Serving Size Weight',\n",
    "       'Cups per Serving'], index = 'Manufacturer',aggfunc=np.median)\n",
    "df_pivot.head()                         \n",
    "df_pivot.shape "
   ]
  },
  {
   "cell_type": "code",
   "execution_count": 15,
   "metadata": {},
   "outputs": [
    {
     "name": "stderr",
     "output_type": "stream",
     "text": [
      "C:\\Users\\gauth\\Anaconda3\\lib\\site-packages\\sklearn\\preprocessing\\data.py:323: DataConversionWarning: Data with input dtype int64, float64 were all converted to float64 by MinMaxScaler.\n",
      "  return self.partial_fit(X, y)\n"
     ]
    },
    {
     "data": {
      "text/html": [
       "<div>\n",
       "<style scoped>\n",
       "    .dataframe tbody tr th:only-of-type {\n",
       "        vertical-align: middle;\n",
       "    }\n",
       "\n",
       "    .dataframe tbody tr th {\n",
       "        vertical-align: top;\n",
       "    }\n",
       "\n",
       "    .dataframe thead th {\n",
       "        text-align: right;\n",
       "    }\n",
       "</style>\n",
       "<table border=\"1\" class=\"dataframe\">\n",
       "  <thead>\n",
       "    <tr style=\"text-align: right;\">\n",
       "      <th></th>\n",
       "      <th>Calories</th>\n",
       "      <th>Carbs</th>\n",
       "      <th>Cups per Serving</th>\n",
       "      <th>Dietary Fiber</th>\n",
       "      <th>Display Shelf</th>\n",
       "      <th>Fat</th>\n",
       "      <th>Potassium</th>\n",
       "      <th>Protein (g)</th>\n",
       "      <th>Serving Size Weight</th>\n",
       "      <th>Sodium</th>\n",
       "      <th>Sugars</th>\n",
       "      <th>Vitamins and Minerals</th>\n",
       "    </tr>\n",
       "  </thead>\n",
       "  <tbody>\n",
       "    <tr>\n",
       "      <th>0</th>\n",
       "      <td>0.5</td>\n",
       "      <td>0.727273</td>\n",
       "      <td>0.000000</td>\n",
       "      <td>0.000000</td>\n",
       "      <td>0.50</td>\n",
       "      <td>0.50</td>\n",
       "      <td>0.761905</td>\n",
       "      <td>1.0</td>\n",
       "      <td>0.0</td>\n",
       "      <td>0.000000</td>\n",
       "      <td>0.352941</td>\n",
       "      <td>1.0</td>\n",
       "    </tr>\n",
       "    <tr>\n",
       "      <th>1</th>\n",
       "      <td>1.0</td>\n",
       "      <td>0.409091</td>\n",
       "      <td>1.000000</td>\n",
       "      <td>0.500000</td>\n",
       "      <td>0.50</td>\n",
       "      <td>0.50</td>\n",
       "      <td>0.476190</td>\n",
       "      <td>0.0</td>\n",
       "      <td>0.0</td>\n",
       "      <td>0.930233</td>\n",
       "      <td>1.000000</td>\n",
       "      <td>1.0</td>\n",
       "    </tr>\n",
       "    <tr>\n",
       "      <th>2</th>\n",
       "      <td>1.0</td>\n",
       "      <td>0.545455</td>\n",
       "      <td>0.933333</td>\n",
       "      <td>0.333333</td>\n",
       "      <td>1.00</td>\n",
       "      <td>0.00</td>\n",
       "      <td>0.095238</td>\n",
       "      <td>0.5</td>\n",
       "      <td>0.0</td>\n",
       "      <td>0.790698</td>\n",
       "      <td>0.823529</td>\n",
       "      <td>1.0</td>\n",
       "    </tr>\n",
       "    <tr>\n",
       "      <th>3</th>\n",
       "      <td>0.0</td>\n",
       "      <td>1.000000</td>\n",
       "      <td>0.800000</td>\n",
       "      <td>1.000000</td>\n",
       "      <td>0.25</td>\n",
       "      <td>0.00</td>\n",
       "      <td>1.000000</td>\n",
       "      <td>0.5</td>\n",
       "      <td>0.0</td>\n",
       "      <td>0.034884</td>\n",
       "      <td>0.000000</td>\n",
       "      <td>0.0</td>\n",
       "    </tr>\n",
       "    <tr>\n",
       "      <th>4</th>\n",
       "      <td>1.0</td>\n",
       "      <td>0.181818</td>\n",
       "      <td>0.912000</td>\n",
       "      <td>1.000000</td>\n",
       "      <td>1.00</td>\n",
       "      <td>0.25</td>\n",
       "      <td>0.619048</td>\n",
       "      <td>0.5</td>\n",
       "      <td>0.0</td>\n",
       "      <td>0.720930</td>\n",
       "      <td>0.941176</td>\n",
       "      <td>1.0</td>\n",
       "    </tr>\n",
       "  </tbody>\n",
       "</table>\n",
       "</div>"
      ],
      "text/plain": [
       "   Calories     Carbs  Cups per Serving  Dietary Fiber  Display Shelf   Fat  \\\n",
       "0       0.5  0.727273          0.000000       0.000000           0.50  0.50   \n",
       "1       1.0  0.409091          1.000000       0.500000           0.50  0.50   \n",
       "2       1.0  0.545455          0.933333       0.333333           1.00  0.00   \n",
       "3       0.0  1.000000          0.800000       1.000000           0.25  0.00   \n",
       "4       1.0  0.181818          0.912000       1.000000           1.00  0.25   \n",
       "\n",
       "   Potassium  Protein (g)  Serving Size Weight    Sodium    Sugars  \\\n",
       "0   0.761905          1.0                  0.0  0.000000  0.352941   \n",
       "1   0.476190          0.0                  0.0  0.930233  1.000000   \n",
       "2   0.095238          0.5                  0.0  0.790698  0.823529   \n",
       "3   1.000000          0.5                  0.0  0.034884  0.000000   \n",
       "4   0.619048          0.5                  0.0  0.720930  0.941176   \n",
       "\n",
       "   Vitamins and Minerals  \n",
       "0                    1.0  \n",
       "1                    1.0  \n",
       "2                    1.0  \n",
       "3                    0.0  \n",
       "4                    1.0  "
      ]
     },
     "execution_count": 15,
     "metadata": {},
     "output_type": "execute_result"
    },
    {
     "data": {
      "text/plain": [
       "(7, 12)"
      ]
     },
     "execution_count": 15,
     "metadata": {},
     "output_type": "execute_result"
    },
    {
     "data": {
      "text/html": [
       "<div>\n",
       "<style scoped>\n",
       "    .dataframe tbody tr th:only-of-type {\n",
       "        vertical-align: middle;\n",
       "    }\n",
       "\n",
       "    .dataframe tbody tr th {\n",
       "        vertical-align: top;\n",
       "    }\n",
       "\n",
       "    .dataframe thead th {\n",
       "        text-align: right;\n",
       "    }\n",
       "</style>\n",
       "<table border=\"1\" class=\"dataframe\">\n",
       "  <thead>\n",
       "    <tr style=\"text-align: right;\">\n",
       "      <th></th>\n",
       "      <th>Calories</th>\n",
       "      <th>Carbs</th>\n",
       "      <th>Cups per Serving</th>\n",
       "      <th>Dietary Fiber</th>\n",
       "      <th>Display Shelf</th>\n",
       "      <th>Fat</th>\n",
       "      <th>Potassium</th>\n",
       "      <th>Protein (g)</th>\n",
       "      <th>Serving Size Weight</th>\n",
       "      <th>Sodium</th>\n",
       "      <th>Sugars</th>\n",
       "      <th>Vitamins and Minerals</th>\n",
       "    </tr>\n",
       "  </thead>\n",
       "  <tbody>\n",
       "    <tr>\n",
       "      <th>count</th>\n",
       "      <td>7.000000</td>\n",
       "      <td>7.000000</td>\n",
       "      <td>7.000000</td>\n",
       "      <td>7.000000</td>\n",
       "      <td>7.000000</td>\n",
       "      <td>7.000000</td>\n",
       "      <td>7.000000</td>\n",
       "      <td>7.000000</td>\n",
       "      <td>7.0</td>\n",
       "      <td>7.000000</td>\n",
       "      <td>7.000000</td>\n",
       "      <td>7.000000</td>\n",
       "    </tr>\n",
       "    <tr>\n",
       "      <th>mean</th>\n",
       "      <td>0.678571</td>\n",
       "      <td>0.551948</td>\n",
       "      <td>0.781333</td>\n",
       "      <td>0.523810</td>\n",
       "      <td>0.571429</td>\n",
       "      <td>0.357143</td>\n",
       "      <td>0.469388</td>\n",
       "      <td>0.392857</td>\n",
       "      <td>0.0</td>\n",
       "      <td>0.546512</td>\n",
       "      <td>0.613445</td>\n",
       "      <td>0.785714</td>\n",
       "    </tr>\n",
       "    <tr>\n",
       "      <th>std</th>\n",
       "      <td>0.374007</td>\n",
       "      <td>0.386077</td>\n",
       "      <td>0.349733</td>\n",
       "      <td>0.365510</td>\n",
       "      <td>0.374007</td>\n",
       "      <td>0.349319</td>\n",
       "      <td>0.357860</td>\n",
       "      <td>0.349319</td>\n",
       "      <td>0.0</td>\n",
       "      <td>0.416824</td>\n",
       "      <td>0.359188</td>\n",
       "      <td>0.393398</td>\n",
       "    </tr>\n",
       "    <tr>\n",
       "      <th>min</th>\n",
       "      <td>0.000000</td>\n",
       "      <td>0.000000</td>\n",
       "      <td>0.000000</td>\n",
       "      <td>0.000000</td>\n",
       "      <td>0.000000</td>\n",
       "      <td>0.000000</td>\n",
       "      <td>0.000000</td>\n",
       "      <td>0.000000</td>\n",
       "      <td>0.0</td>\n",
       "      <td>0.000000</td>\n",
       "      <td>0.000000</td>\n",
       "      <td>0.000000</td>\n",
       "    </tr>\n",
       "    <tr>\n",
       "      <th>25%</th>\n",
       "      <td>0.500000</td>\n",
       "      <td>0.295455</td>\n",
       "      <td>0.845333</td>\n",
       "      <td>0.333333</td>\n",
       "      <td>0.375000</td>\n",
       "      <td>0.125000</td>\n",
       "      <td>0.214286</td>\n",
       "      <td>0.125000</td>\n",
       "      <td>0.0</td>\n",
       "      <td>0.191860</td>\n",
       "      <td>0.411765</td>\n",
       "      <td>0.750000</td>\n",
       "    </tr>\n",
       "    <tr>\n",
       "      <th>50%</th>\n",
       "      <td>0.750000</td>\n",
       "      <td>0.545455</td>\n",
       "      <td>0.912000</td>\n",
       "      <td>0.500000</td>\n",
       "      <td>0.500000</td>\n",
       "      <td>0.250000</td>\n",
       "      <td>0.476190</td>\n",
       "      <td>0.500000</td>\n",
       "      <td>0.0</td>\n",
       "      <td>0.720930</td>\n",
       "      <td>0.705882</td>\n",
       "      <td>1.000000</td>\n",
       "    </tr>\n",
       "    <tr>\n",
       "      <th>75%</th>\n",
       "      <td>1.000000</td>\n",
       "      <td>0.863636</td>\n",
       "      <td>0.933333</td>\n",
       "      <td>0.750000</td>\n",
       "      <td>0.875000</td>\n",
       "      <td>0.500000</td>\n",
       "      <td>0.690476</td>\n",
       "      <td>0.500000</td>\n",
       "      <td>0.0</td>\n",
       "      <td>0.860465</td>\n",
       "      <td>0.882353</td>\n",
       "      <td>1.000000</td>\n",
       "    </tr>\n",
       "    <tr>\n",
       "      <th>max</th>\n",
       "      <td>1.000000</td>\n",
       "      <td>1.000000</td>\n",
       "      <td>1.000000</td>\n",
       "      <td>1.000000</td>\n",
       "      <td>1.000000</td>\n",
       "      <td>1.000000</td>\n",
       "      <td>1.000000</td>\n",
       "      <td>1.000000</td>\n",
       "      <td>0.0</td>\n",
       "      <td>1.000000</td>\n",
       "      <td>1.000000</td>\n",
       "      <td>1.000000</td>\n",
       "    </tr>\n",
       "  </tbody>\n",
       "</table>\n",
       "</div>"
      ],
      "text/plain": [
       "       Calories     Carbs  Cups per Serving  Dietary Fiber  Display Shelf  \\\n",
       "count  7.000000  7.000000          7.000000       7.000000       7.000000   \n",
       "mean   0.678571  0.551948          0.781333       0.523810       0.571429   \n",
       "std    0.374007  0.386077          0.349733       0.365510       0.374007   \n",
       "min    0.000000  0.000000          0.000000       0.000000       0.000000   \n",
       "25%    0.500000  0.295455          0.845333       0.333333       0.375000   \n",
       "50%    0.750000  0.545455          0.912000       0.500000       0.500000   \n",
       "75%    1.000000  0.863636          0.933333       0.750000       0.875000   \n",
       "max    1.000000  1.000000          1.000000       1.000000       1.000000   \n",
       "\n",
       "            Fat  Potassium  Protein (g)  Serving Size Weight    Sodium  \\\n",
       "count  7.000000   7.000000     7.000000                  7.0  7.000000   \n",
       "mean   0.357143   0.469388     0.392857                  0.0  0.546512   \n",
       "std    0.349319   0.357860     0.349319                  0.0  0.416824   \n",
       "min    0.000000   0.000000     0.000000                  0.0  0.000000   \n",
       "25%    0.125000   0.214286     0.125000                  0.0  0.191860   \n",
       "50%    0.250000   0.476190     0.500000                  0.0  0.720930   \n",
       "75%    0.500000   0.690476     0.500000                  0.0  0.860465   \n",
       "max    1.000000   1.000000     1.000000                  0.0  1.000000   \n",
       "\n",
       "         Sugars  Vitamins and Minerals  \n",
       "count  7.000000               7.000000  \n",
       "mean   0.613445               0.785714  \n",
       "std    0.359188               0.393398  \n",
       "min    0.000000               0.000000  \n",
       "25%    0.411765               0.750000  \n",
       "50%    0.705882               1.000000  \n",
       "75%    0.882353               1.000000  \n",
       "max    1.000000               1.000000  "
      ]
     },
     "execution_count": 15,
     "metadata": {},
     "output_type": "execute_result"
    }
   ],
   "source": [
    "#scale all variable between 0 and 1 \n",
    "from sklearn.preprocessing import MinMaxScaler\n",
    "scld=MinMaxScaler(feature_range=(0,1))\n",
    "arr_scld = scld.fit_transform(df_pivot)\n",
    "df_scld=pd.DataFrame(arr_scld,columns=df_pivot.columns)\n",
    "df_scld.head()\n",
    "df_scld.shape\n",
    "df_scld.describe()\n",
    "import warnings\n",
    "warnings.filterwarnings('ignore')"
   ]
  },
  {
   "cell_type": "code",
   "execution_count": 16,
   "metadata": {},
   "outputs": [
    {
     "data": {
      "text/plain": [
       "KMeans(algorithm='auto', copy_x=True, init='k-means++', max_iter=300,\n",
       "    n_clusters=2, n_init=10, n_jobs=None, precompute_distances='auto',\n",
       "    random_state=None, tol=0.0001, verbose=0)"
      ]
     },
     "execution_count": 16,
     "metadata": {},
     "output_type": "execute_result"
    },
    {
     "data": {
      "text/plain": [
       "KMeans(algorithm='auto', copy_x=True, init='k-means++', max_iter=300,\n",
       "    n_clusters=3, n_init=10, n_jobs=None, precompute_distances='auto',\n",
       "    random_state=None, tol=0.0001, verbose=0)"
      ]
     },
     "execution_count": 16,
     "metadata": {},
     "output_type": "execute_result"
    },
    {
     "data": {
      "text/plain": [
       "KMeans(algorithm='auto', copy_x=True, init='k-means++', max_iter=300,\n",
       "    n_clusters=4, n_init=10, n_jobs=None, precompute_distances='auto',\n",
       "    random_state=None, tol=0.0001, verbose=0)"
      ]
     },
     "execution_count": 16,
     "metadata": {},
     "output_type": "execute_result"
    },
    {
     "data": {
      "text/plain": [
       "KMeans(algorithm='auto', copy_x=True, init='k-means++', max_iter=300,\n",
       "    n_clusters=5, n_init=10, n_jobs=None, precompute_distances='auto',\n",
       "    random_state=None, tol=0.0001, verbose=0)"
      ]
     },
     "execution_count": 16,
     "metadata": {},
     "output_type": "execute_result"
    },
    {
     "data": {
      "text/plain": [
       "KMeans(algorithm='auto', copy_x=True, init='k-means++', max_iter=300,\n",
       "    n_clusters=6, n_init=10, n_jobs=None, precompute_distances='auto',\n",
       "    random_state=None, tol=0.0001, verbose=0)"
      ]
     },
     "execution_count": 16,
     "metadata": {},
     "output_type": "execute_result"
    },
    {
     "data": {
      "text/plain": [
       "KMeans(algorithm='auto', copy_x=True, init='k-means++', max_iter=300,\n",
       "    n_clusters=7, n_init=10, n_jobs=None, precompute_distances='auto',\n",
       "    random_state=None, tol=0.0001, verbose=0)"
      ]
     },
     "execution_count": 16,
     "metadata": {},
     "output_type": "execute_result"
    },
    {
     "data": {
      "text/html": [
       "<div>\n",
       "<style scoped>\n",
       "    .dataframe tbody tr th:only-of-type {\n",
       "        vertical-align: middle;\n",
       "    }\n",
       "\n",
       "    .dataframe tbody tr th {\n",
       "        vertical-align: top;\n",
       "    }\n",
       "\n",
       "    .dataframe thead th {\n",
       "        text-align: right;\n",
       "    }\n",
       "</style>\n",
       "<table border=\"1\" class=\"dataframe\">\n",
       "  <thead>\n",
       "    <tr style=\"text-align: right;\">\n",
       "      <th></th>\n",
       "      <th>Cluster_Number</th>\n",
       "      <th>Error_term</th>\n",
       "    </tr>\n",
       "  </thead>\n",
       "  <tbody>\n",
       "    <tr>\n",
       "      <th>0</th>\n",
       "      <td>2</td>\n",
       "      <td>0.053725</td>\n",
       "    </tr>\n",
       "    <tr>\n",
       "      <th>1</th>\n",
       "      <td>3</td>\n",
       "      <td>0.035179</td>\n",
       "    </tr>\n",
       "    <tr>\n",
       "      <th>2</th>\n",
       "      <td>4</td>\n",
       "      <td>0.020831</td>\n",
       "    </tr>\n",
       "    <tr>\n",
       "      <th>3</th>\n",
       "      <td>5</td>\n",
       "      <td>0.009563</td>\n",
       "    </tr>\n",
       "    <tr>\n",
       "      <th>4</th>\n",
       "      <td>6</td>\n",
       "      <td>0.004664</td>\n",
       "    </tr>\n",
       "    <tr>\n",
       "      <th>5</th>\n",
       "      <td>7</td>\n",
       "      <td>0.000000</td>\n",
       "    </tr>\n",
       "  </tbody>\n",
       "</table>\n",
       "</div>"
      ],
      "text/plain": [
       "   Cluster_Number  Error_term\n",
       "0               2    0.053725\n",
       "1               3    0.035179\n",
       "2               4    0.020831\n",
       "3               5    0.009563\n",
       "4               6    0.004664\n",
       "5               7    0.000000"
      ]
     },
     "execution_count": 16,
     "metadata": {},
     "output_type": "execute_result"
    }
   ],
   "source": [
    "#lets build clusters\n",
    "from sklearn.cluster import KMeans\n",
    "num_of_clusters= range(2,8)\n",
    "error = []\n",
    " \n",
    "for num_clusters in num_of_clusters:\n",
    "    clusters= KMeans(num_clusters)\n",
    "    clusters.fit(df_scld)\n",
    "    error.append(clusters.inertia_/100)\n",
    "    \n",
    "df = pd.DataFrame({\"Cluster_Number\": num_of_clusters,\"Error_term\":error})\n",
    "df"
   ]
  },
  {
   "cell_type": "code",
   "execution_count": null,
   "metadata": {},
   "outputs": [],
   "source": []
  },
  {
   "cell_type": "code",
   "execution_count": 4,
   "metadata": {},
   "outputs": [
    {
     "data": {
      "text/html": [
       "<div>\n",
       "<style scoped>\n",
       "    .dataframe tbody tr th:only-of-type {\n",
       "        vertical-align: middle;\n",
       "    }\n",
       "\n",
       "    .dataframe tbody tr th {\n",
       "        vertical-align: top;\n",
       "    }\n",
       "\n",
       "    .dataframe thead th {\n",
       "        text-align: right;\n",
       "    }\n",
       "</style>\n",
       "<table border=\"1\" class=\"dataframe\">\n",
       "  <thead>\n",
       "    <tr style=\"text-align: right;\">\n",
       "      <th></th>\n",
       "      <th>Income</th>\n",
       "      <th>Limit</th>\n",
       "      <th>Rating</th>\n",
       "      <th>Cards</th>\n",
       "      <th>Age</th>\n",
       "      <th>Education</th>\n",
       "      <th>Gender</th>\n",
       "      <th>Student</th>\n",
       "      <th>Married</th>\n",
       "      <th>Ethnicity</th>\n",
       "      <th>Balance</th>\n",
       "    </tr>\n",
       "  </thead>\n",
       "  <tbody>\n",
       "    <tr>\n",
       "      <th>0</th>\n",
       "      <td>14.891</td>\n",
       "      <td>3606</td>\n",
       "      <td>283</td>\n",
       "      <td>2</td>\n",
       "      <td>34</td>\n",
       "      <td>11</td>\n",
       "      <td>1</td>\n",
       "      <td>0</td>\n",
       "      <td>1</td>\n",
       "      <td>2</td>\n",
       "      <td>333</td>\n",
       "    </tr>\n",
       "    <tr>\n",
       "      <th>1</th>\n",
       "      <td>106.025</td>\n",
       "      <td>6645</td>\n",
       "      <td>483</td>\n",
       "      <td>3</td>\n",
       "      <td>82</td>\n",
       "      <td>15</td>\n",
       "      <td>0</td>\n",
       "      <td>1</td>\n",
       "      <td>1</td>\n",
       "      <td>1</td>\n",
       "      <td>903</td>\n",
       "    </tr>\n",
       "  </tbody>\n",
       "</table>\n",
       "</div>"
      ],
      "text/plain": [
       "    Income  Limit  Rating  Cards  Age  Education  Gender  Student  Married  \\\n",
       "0   14.891   3606     283      2   34         11       1        0        1   \n",
       "1  106.025   6645     483      3   82         15       0        1        1   \n",
       "\n",
       "   Ethnicity  Balance  \n",
       "0          2      333  \n",
       "1          1      903  "
      ]
     },
     "execution_count": 4,
     "metadata": {},
     "output_type": "execute_result"
    }
   ],
   "source": [
    "# To convert objects to int\n",
    "for col in dfcredit.columns:\n",
    "    if dfcredit[col].dtype=='object':\n",
    "        dfcredit[col]=pd.Categorical(dfcredit[col]).codes\n",
    "dfcredit.head(2)"
   ]
  },
  {
   "cell_type": "code",
   "execution_count": 10,
   "metadata": {},
   "outputs": [
    {
     "data": {
      "text/plain": [
       "(74, 15)"
      ]
     },
     "execution_count": 10,
     "metadata": {},
     "output_type": "execute_result"
    },
    {
     "data": {
      "text/plain": [
       "Index(['Cereal Name', 'Manufacturer', 'Type', 'Calories', 'Protein (g)', 'Fat',\n",
       "       'Sodium', 'Dietary Fiber', 'Carbs', 'Sugars', 'Display Shelf',\n",
       "       'Potassium', 'Vitamins and Minerals', 'Serving Size Weight',\n",
       "       'Cups per Serving'],\n",
       "      dtype='object')"
      ]
     },
     "execution_count": 10,
     "metadata": {},
     "output_type": "execute_result"
    }
   ],
   "source": [
    "#find the number of rows and columns\n",
    "dfcereal.shape\n",
    "dfcereal.columns"
   ]
  },
  {
   "cell_type": "markdown",
   "metadata": {},
   "source": [
    "## Step 2: EDA"
   ]
  },
  {
   "cell_type": "code",
   "execution_count": null,
   "metadata": {},
   "outputs": [],
   "source": [
    "!pip install pandas-profiling\n",
    "import pandas_profiling"
   ]
  },
  {
   "cell_type": "code",
   "execution_count": 6,
   "metadata": {},
   "outputs": [],
   "source": [
    "eda_report=pandas_profiling.ProfileReport(dfcredit)"
   ]
  },
  {
   "cell_type": "code",
   "execution_count": 7,
   "metadata": {},
   "outputs": [
    {
     "data": {
      "text/html": [
       "\n",
       "        <iframe\n",
       "            width=\"100%\"\n",
       "            height=\"800px\"\n",
       "            src=\"ipynb_tmp\\profile_2496181021.html\"\n",
       "            frameborder=\"0\"\n",
       "            allowfullscreen\n",
       "        ></iframe>\n",
       "        "
      ],
      "text/plain": [
       "<IPython.lib.display.IFrame at 0x26c05dd0588>"
      ]
     },
     "metadata": {},
     "output_type": "display_data"
    },
    {
     "data": {
      "text/plain": []
     },
     "execution_count": 7,
     "metadata": {},
     "output_type": "execute_result"
    }
   ],
   "source": [
    "eda_report"
   ]
  },
  {
   "cell_type": "code",
   "execution_count": 8,
   "metadata": {},
   "outputs": [
    {
     "data": {
      "image/png": "[encoded data removed]",
      "text/plain": [
       "<Figure size 1440x1440 with 2 Axes>"
      ]
     },
     "metadata": {
      "needs_background": "light"
     },
     "output_type": "display_data"
    }
   ],
   "source": [
    "#Plot correlation heat map\n",
    "import matplotlib.pyplot as plt\n",
    "%matplotlib inline\n",
    "import seaborn as sns\n",
    "\n",
    "x=dfcredit.corr()\n",
    "plt.subplots(figsize=(20,20))\n",
    "sns.heatmap(x,cmap='RdYlGn',annot=True)\n",
    "plt.show();"
   ]
  },
  {
   "cell_type": "markdown",
   "metadata": {},
   "source": [
    "## Since rating is having greater correlation with most variables hence removed\n",
    "## also removed Gender,Married,Ethnicity, Student which are categorical"
   ]
  },
  {
   "cell_type": "code",
   "execution_count": 9,
   "metadata": {},
   "outputs": [
    {
     "data": {
      "text/plain": [
       "Index(['Income', 'Limit', 'Cards', 'Age', 'Education', 'Balance'], dtype='object')"
      ]
     },
     "execution_count": 9,
     "metadata": {},
     "output_type": "execute_result"
    }
   ],
   "source": [
    "dfcredit=dfcredit.drop(['Rating','Gender','Married','Ethnicity','Student'],axis=1)\n",
    "dfcredit.columns"
   ]
  },
  {
   "cell_type": "markdown",
   "metadata": {},
   "source": [
    "## Step-3:Scaling (Variables with very different variances are scaled.)"
   ]
  },
  {
   "cell_type": "code",
   "execution_count": 10,
   "metadata": {},
   "outputs": [
    {
     "name": "stderr",
     "output_type": "stream",
     "text": [
      "C:\\Users\\gauth\\Anaconda3\\lib\\site-packages\\sklearn\\preprocessing\\data.py:323: DataConversionWarning: Data with input dtype int64, float64 were all converted to float64 by MinMaxScaler.\n",
      "  return self.partial_fit(X, y)\n"
     ]
    },
    {
     "data": {
      "text/html": [
       "<div>\n",
       "<style scoped>\n",
       "    .dataframe tbody tr th:only-of-type {\n",
       "        vertical-align: middle;\n",
       "    }\n",
       "\n",
       "    .dataframe tbody tr th {\n",
       "        vertical-align: top;\n",
       "    }\n",
       "\n",
       "    .dataframe thead th {\n",
       "        text-align: right;\n",
       "    }\n",
       "</style>\n",
       "<table border=\"1\" class=\"dataframe\">\n",
       "  <thead>\n",
       "    <tr style=\"text-align: right;\">\n",
       "      <th></th>\n",
       "      <th>Income</th>\n",
       "      <th>Limit</th>\n",
       "      <th>Cards</th>\n",
       "      <th>Age</th>\n",
       "      <th>Education</th>\n",
       "      <th>Balance</th>\n",
       "    </tr>\n",
       "  </thead>\n",
       "  <tbody>\n",
       "    <tr>\n",
       "      <th>0</th>\n",
       "      <td>0.025737</td>\n",
       "      <td>0.210675</td>\n",
       "      <td>0.125</td>\n",
       "      <td>0.146667</td>\n",
       "      <td>0.400000</td>\n",
       "      <td>0.166583</td>\n",
       "    </tr>\n",
       "    <tr>\n",
       "      <th>1</th>\n",
       "      <td>0.542722</td>\n",
       "      <td>0.443406</td>\n",
       "      <td>0.250</td>\n",
       "      <td>0.786667</td>\n",
       "      <td>0.666667</td>\n",
       "      <td>0.451726</td>\n",
       "    </tr>\n",
       "    <tr>\n",
       "      <th>2</th>\n",
       "      <td>0.534598</td>\n",
       "      <td>0.476336</td>\n",
       "      <td>0.375</td>\n",
       "      <td>0.640000</td>\n",
       "      <td>0.400000</td>\n",
       "      <td>0.290145</td>\n",
       "    </tr>\n",
       "    <tr>\n",
       "      <th>3</th>\n",
       "      <td>0.786079</td>\n",
       "      <td>0.662353</td>\n",
       "      <td>0.250</td>\n",
       "      <td>0.173333</td>\n",
       "      <td>0.400000</td>\n",
       "      <td>0.482241</td>\n",
       "    </tr>\n",
       "    <tr>\n",
       "      <th>4</th>\n",
       "      <td>0.258271</td>\n",
       "      <td>0.309542</td>\n",
       "      <td>0.125</td>\n",
       "      <td>0.600000</td>\n",
       "      <td>0.733333</td>\n",
       "      <td>0.165583</td>\n",
       "    </tr>\n",
       "  </tbody>\n",
       "</table>\n",
       "</div>"
      ],
      "text/plain": [
       "     Income     Limit  Cards       Age  Education   Balance\n",
       "0  0.025737  0.210675  0.125  0.146667   0.400000  0.166583\n",
       "1  0.542722  0.443406  0.250  0.786667   0.666667  0.451726\n",
       "2  0.534598  0.476336  0.375  0.640000   0.400000  0.290145\n",
       "3  0.786079  0.662353  0.250  0.173333   0.400000  0.482241\n",
       "4  0.258271  0.309542  0.125  0.600000   0.733333  0.165583"
      ]
     },
     "execution_count": 10,
     "metadata": {},
     "output_type": "execute_result"
    },
    {
     "data": {
      "text/html": [
       "<div>\n",
       "<style scoped>\n",
       "    .dataframe tbody tr th:only-of-type {\n",
       "        vertical-align: middle;\n",
       "    }\n",
       "\n",
       "    .dataframe tbody tr th {\n",
       "        vertical-align: top;\n",
       "    }\n",
       "\n",
       "    .dataframe thead th {\n",
       "        text-align: right;\n",
       "    }\n",
       "</style>\n",
       "<table border=\"1\" class=\"dataframe\">\n",
       "  <thead>\n",
       "    <tr style=\"text-align: right;\">\n",
       "      <th></th>\n",
       "      <th>Income</th>\n",
       "      <th>Limit</th>\n",
       "      <th>Cards</th>\n",
       "      <th>Age</th>\n",
       "      <th>Education</th>\n",
       "      <th>Balance</th>\n",
       "    </tr>\n",
       "  </thead>\n",
       "  <tbody>\n",
       "    <tr>\n",
       "      <th>count</th>\n",
       "      <td>400.000000</td>\n",
       "      <td>400.000000</td>\n",
       "      <td>400.000000</td>\n",
       "      <td>400.000000</td>\n",
       "      <td>400.000000</td>\n",
       "      <td>400.000000</td>\n",
       "    </tr>\n",
       "    <tr>\n",
       "      <th>mean</th>\n",
       "      <td>0.197781</td>\n",
       "      <td>0.297182</td>\n",
       "      <td>0.244688</td>\n",
       "      <td>0.435567</td>\n",
       "      <td>0.563333</td>\n",
       "      <td>0.260138</td>\n",
       "    </tr>\n",
       "    <tr>\n",
       "      <th>std</th>\n",
       "      <td>0.199933</td>\n",
       "      <td>0.176765</td>\n",
       "      <td>0.171409</td>\n",
       "      <td>0.229997</td>\n",
       "      <td>0.208347</td>\n",
       "      <td>0.229994</td>\n",
       "    </tr>\n",
       "    <tr>\n",
       "      <th>min</th>\n",
       "      <td>0.000000</td>\n",
       "      <td>0.000000</td>\n",
       "      <td>0.000000</td>\n",
       "      <td>0.000000</td>\n",
       "      <td>0.000000</td>\n",
       "      <td>0.000000</td>\n",
       "    </tr>\n",
       "    <tr>\n",
       "      <th>25%</th>\n",
       "      <td>0.060434</td>\n",
       "      <td>0.171006</td>\n",
       "      <td>0.125000</td>\n",
       "      <td>0.250000</td>\n",
       "      <td>0.400000</td>\n",
       "      <td>0.034392</td>\n",
       "    </tr>\n",
       "    <tr>\n",
       "      <th>50%</th>\n",
       "      <td>0.129121</td>\n",
       "      <td>0.288520</td>\n",
       "      <td>0.250000</td>\n",
       "      <td>0.440000</td>\n",
       "      <td>0.600000</td>\n",
       "      <td>0.229865</td>\n",
       "    </tr>\n",
       "    <tr>\n",
       "      <th>75%</th>\n",
       "      <td>0.267284</td>\n",
       "      <td>0.384266</td>\n",
       "      <td>0.375000</td>\n",
       "      <td>0.626667</td>\n",
       "      <td>0.733333</td>\n",
       "      <td>0.431716</td>\n",
       "    </tr>\n",
       "    <tr>\n",
       "      <th>max</th>\n",
       "      <td>1.000000</td>\n",
       "      <td>1.000000</td>\n",
       "      <td>1.000000</td>\n",
       "      <td>1.000000</td>\n",
       "      <td>1.000000</td>\n",
       "      <td>1.000000</td>\n",
       "    </tr>\n",
       "  </tbody>\n",
       "</table>\n",
       "</div>"
      ],
      "text/plain": [
       "           Income       Limit       Cards         Age   Education     Balance\n",
       "count  400.000000  400.000000  400.000000  400.000000  400.000000  400.000000\n",
       "mean     0.197781    0.297182    0.244688    0.435567    0.563333    0.260138\n",
       "std      0.199933    0.176765    0.171409    0.229997    0.208347    0.229994\n",
       "min      0.000000    0.000000    0.000000    0.000000    0.000000    0.000000\n",
       "25%      0.060434    0.171006    0.125000    0.250000    0.400000    0.034392\n",
       "50%      0.129121    0.288520    0.250000    0.440000    0.600000    0.229865\n",
       "75%      0.267284    0.384266    0.375000    0.626667    0.733333    0.431716\n",
       "max      1.000000    1.000000    1.000000    1.000000    1.000000    1.000000"
      ]
     },
     "execution_count": 10,
     "metadata": {},
     "output_type": "execute_result"
    }
   ],
   "source": [
    "#scale all numerical variables between 0 and 1 \n",
    "from sklearn.preprocessing import MinMaxScaler\n",
    "scld=MinMaxScaler(feature_range=(0,1))\n",
    "arr_scld = scld.fit_transform(dfcredit)\n",
    "dfcredit_scld=pd.DataFrame(arr_scld,columns=dfcredit.columns)\n",
    "dfcredit_scld.head()\n",
    "dfcredit_scld.describe()\n",
    "import warnings\n",
    "warnings.filterwarnings('ignore')"
   ]
  },
  {
   "cell_type": "markdown",
   "metadata": {},
   "source": [
    "## Step-4: Principal Component Analysis (PCA)\n",
    "## This dataset consists of 11 variables correlated with each other (few heavily),PCA is used to reduce this dimensionality and elimnate the coorelation between the PCA components "
   ]
  },
  {
   "cell_type": "code",
   "execution_count": 11,
   "metadata": {},
   "outputs": [],
   "source": [
    "#fit PCA model.The number of components will be same as number of Variables\n",
    "from sklearn.decomposition import PCA\n",
    "pca = PCA().fit(dfcredit_scld)"
   ]
  },
  {
   "cell_type": "code",
   "execution_count": 12,
   "metadata": {},
   "outputs": [
    {
     "data": {
      "text/plain": [
       "PCA(copy=True, iterated_power='auto', n_components=None, random_state=None,\n",
       "  svd_solver='auto', tol=0.0, whiten=False)"
      ]
     },
     "execution_count": 12,
     "metadata": {},
     "output_type": "execute_result"
    }
   ],
   "source": [
    "pca"
   ]
  },
  {
   "cell_type": "code",
   "execution_count": 13,
   "metadata": {},
   "outputs": [
    {
     "data": {
      "text/plain": [
       "'[0.39856634 0.21381185 0.17455107 0.1211044  0.0867809  0.00518543]'"
      ]
     },
     "execution_count": 13,
     "metadata": {},
     "output_type": "execute_result"
    }
   ],
   "source": [
    "str(pca.explained_variance_ratio_)#first component explains 39.8% of variance,second 21.4%,third 17% and so on"
   ]
  },
  {
   "cell_type": "code",
   "execution_count": 14,
   "metadata": {},
   "outputs": [
    {
     "data": {
      "text/plain": [
       "'1.0'"
      ]
     },
     "execution_count": 14,
     "metadata": {},
     "output_type": "execute_result"
    }
   ],
   "source": [
    "str(pca.explained_variance_ratio_.sum())"
   ]
  },
  {
   "cell_type": "code",
   "execution_count": 15,
   "metadata": {},
   "outputs": [],
   "source": [
    "pca=PCA().fit(dfcredit_scld)"
   ]
  },
  {
   "cell_type": "code",
   "execution_count": 16,
   "metadata": {},
   "outputs": [
    {
     "data": {
      "text/plain": [
       "array([39.86, 21.38, 17.46, 12.11,  8.68,  0.52])"
      ]
     },
     "execution_count": 16,
     "metadata": {},
     "output_type": "execute_result"
    }
   ],
   "source": [
    "np.round(pca.explained_variance_ratio_[0:10]*100,2)"
   ]
  },
  {
   "cell_type": "code",
   "execution_count": 17,
   "metadata": {},
   "outputs": [
    {
     "data": {
      "text/plain": [
       "'100.0'"
      ]
     },
     "execution_count": 17,
     "metadata": {},
     "output_type": "execute_result"
    }
   ],
   "source": [
    "str(pca.explained_variance_ratio_.sum()*100)"
   ]
  },
  {
   "cell_type": "markdown",
   "metadata": {},
   "source": [
    "## Number of components should explain at least 80% of the original data variance "
   ]
  },
  {
   "cell_type": "code",
   "execution_count": 18,
   "metadata": {},
   "outputs": [
    {
     "data": {
      "text/plain": [
       "[<matplotlib.lines.Line2D at 0x26c06d07438>]"
      ]
     },
     "execution_count": 18,
     "metadata": {},
     "output_type": "execute_result"
    },
    {
     "data": {
      "text/plain": [
       "Text(0.5, 0, 'number of component')"
      ]
     },
     "execution_count": 18,
     "metadata": {},
     "output_type": "execute_result"
    },
    {
     "data": {
      "text/plain": [
       "Text(0, 0.5, 'Cummulative explaind Variance')"
      ]
     },
     "execution_count": 18,
     "metadata": {},
     "output_type": "execute_result"
    },
    {
     "data": {
      "text/plain": [
       "Text(2, 0.75, '3 PC explains ~80% Variations ')"
      ]
     },
     "execution_count": 18,
     "metadata": {},
     "output_type": "execute_result"
    },
    {
     "data": {
      "text/plain": [
       "Text(10.5, 1, 'total number of components')"
      ]
     },
     "execution_count": 18,
     "metadata": {},
     "output_type": "execute_result"
    },
    {
     "data": {
      "image/png": "[encoded data removed]",
      "text/plain": [
       "<Figure size 432x288 with 1 Axes>"
      ]
     },
     "metadata": {
      "needs_background": "light"
     },
     "output_type": "display_data"
    }
   ],
   "source": [
    "#Plotting relation between compnents and variance(Elbow method)\n",
    "import matplotlib.pyplot as plt\n",
    "%matplotlib inline\n",
    "plt.plot(np.cumsum(pca.explained_variance_ratio_))\n",
    "plt.xlabel('number of component')\n",
    "plt.ylabel('Cummulative explaind Variance')\n",
    "plt.annotate('3 PC explains ~80% Variations ',xy=(2,0.75))\n",
    "plt.annotate('total number of components',xy=(10.5,1))"
   ]
  },
  {
   "cell_type": "code",
   "execution_count": 19,
   "metadata": {},
   "outputs": [],
   "source": [
    "#from the above graph identified first 3 components has an explaing power of ~80%,So passing first 3 components into pca\n",
    "pca3=PCA(3).fit(dfcredit_scld)"
   ]
  },
  {
   "cell_type": "code",
   "execution_count": 20,
   "metadata": {},
   "outputs": [
    {
     "data": {
      "text/plain": [
       "array([0.09956396, 0.05341132, 0.04360377])"
      ]
     },
     "execution_count": 20,
     "metadata": {},
     "output_type": "execute_result"
    }
   ],
   "source": [
    "#Determine the Eigen Values.\n",
    "pca3.explained_variance_"
   ]
  },
  {
   "cell_type": "code",
   "execution_count": 21,
   "metadata": {},
   "outputs": [
    {
     "data": {
      "text/plain": [
       "array([39.86, 21.38, 17.46])"
      ]
     },
     "execution_count": 21,
     "metadata": {},
     "output_type": "execute_result"
    }
   ],
   "source": [
    "np.round(pca3.explained_variance_ratio_[0:10]*100,2)"
   ]
  },
  {
   "cell_type": "code",
   "execution_count": 22,
   "metadata": {},
   "outputs": [
    {
     "data": {
      "text/plain": [
       "'78.69292623801843'"
      ]
     },
     "execution_count": 22,
     "metadata": {},
     "output_type": "execute_result"
    }
   ],
   "source": [
    "str(pca3.explained_variance_ratio_.sum()*100)"
   ]
  },
  {
   "cell_type": "code",
   "execution_count": 23,
   "metadata": {},
   "outputs": [
    {
     "data": {
      "text/plain": [
       "(400, 3)"
      ]
     },
     "execution_count": 23,
     "metadata": {},
     "output_type": "execute_result"
    },
    {
     "data": {
      "text/plain": [
       "array([[-0.2356318 ,  0.27467097,  0.15103489],\n",
       "       [ 0.42604734, -0.31994796, -0.10885746],\n",
       "       [ 0.32563779, -0.2115868 ,  0.17492272],\n",
       "       ...,\n",
       "       [-0.07920352, -0.20504932,  0.13364881],\n",
       "       [-0.31195544,  0.0934363 ,  0.01078558],\n",
       "       [ 0.13533515, -0.04191989,  0.4493823 ]])"
      ]
     },
     "execution_count": 23,
     "metadata": {},
     "output_type": "execute_result"
    }
   ],
   "source": [
    "#Transformation of original credita data (400X11) in to PCA array (400X3)\n",
    "x_pca=PCA(n_components=3)\n",
    "dfcredit_pca=x_pca.fit_transform(dfcredit_scld)\n",
    "dfcredit_pca.shape\n",
    "dfcredit_pca"
   ]
  },
  {
   "cell_type": "markdown",
   "metadata": {},
   "source": [
    "## The below Heat map ensures there exists no coorelation between the 5 PCA components\n",
    "## Hence Dimension reduced from 11 to 5, Correlation between columns adrresed"
   ]
  },
  {
   "cell_type": "code",
   "execution_count": 24,
   "metadata": {},
   "outputs": [
    {
     "data": {
      "text/plain": [
       "<matplotlib.axes._subplots.AxesSubplot at 0x26c06d18b70>"
      ]
     },
     "execution_count": 24,
     "metadata": {},
     "output_type": "execute_result"
    },
    {
     "data": {
      "text/plain": [
       "Text(0.5, 1.0, 'correlation between different features')"
      ]
     },
     "execution_count": 24,
     "metadata": {},
     "output_type": "execute_result"
    },
    {
     "data": {
      "image/png": "[encoded data removed]",
      "text/plain": [
       "<Figure size 432x288 with 2 Axes>"
      ]
     },
     "metadata": {
      "needs_background": "light"
     },
     "output_type": "display_data"
    }
   ],
   "source": [
    "import seaborn as sns\n",
    "correlation=pd.DataFrame(dfcredit_pca).corr()\n",
    "sns.heatmap(correlation,vmax=1,square=True,cmap='viridis')\n",
    "plt.title('correlation between different features')"
   ]
  },
  {
   "cell_type": "markdown",
   "metadata": {},
   "source": [
    "## Determine (measure) the loading of the original credit data variables on the 3 PCA components created"
   ]
  },
  {
   "cell_type": "code",
   "execution_count": 26,
   "metadata": {},
   "outputs": [
    {
     "data": {
      "text/html": [
       "<div>\n",
       "<style scoped>\n",
       "    .dataframe tbody tr th:only-of-type {\n",
       "        vertical-align: middle;\n",
       "    }\n",
       "\n",
       "    .dataframe tbody tr th {\n",
       "        vertical-align: top;\n",
       "    }\n",
       "\n",
       "    .dataframe thead th {\n",
       "        text-align: right;\n",
       "    }\n",
       "</style>\n",
       "<table border=\"1\" class=\"dataframe\">\n",
       "  <thead>\n",
       "    <tr style=\"text-align: right;\">\n",
       "      <th></th>\n",
       "      <th>Income</th>\n",
       "      <th>Limit</th>\n",
       "      <th>Cards</th>\n",
       "      <th>Age</th>\n",
       "      <th>Education</th>\n",
       "      <th>Balance</th>\n",
       "    </tr>\n",
       "  </thead>\n",
       "  <tbody>\n",
       "    <tr>\n",
       "      <th>0</th>\n",
       "      <td>0.508430</td>\n",
       "      <td>0.549079</td>\n",
       "      <td>0.033297</td>\n",
       "      <td>0.138573</td>\n",
       "      <td>-0.024031</td>\n",
       "      <td>0.647397</td>\n",
       "    </tr>\n",
       "    <tr>\n",
       "      <th>1</th>\n",
       "      <td>-0.089380</td>\n",
       "      <td>0.063328</td>\n",
       "      <td>-0.032039</td>\n",
       "      <td>-0.967609</td>\n",
       "      <td>-0.014794</td>\n",
       "      <td>0.224696</td>\n",
       "    </tr>\n",
       "    <tr>\n",
       "      <th>2</th>\n",
       "      <td>0.000861</td>\n",
       "      <td>-0.014672</td>\n",
       "      <td>0.119621</td>\n",
       "      <td>0.002783</td>\n",
       "      <td>-0.992197</td>\n",
       "      <td>-0.031810</td>\n",
       "    </tr>\n",
       "  </tbody>\n",
       "</table>\n",
       "</div>"
      ],
      "text/plain": [
       "     Income     Limit     Cards       Age  Education   Balance\n",
       "0  0.508430  0.549079  0.033297  0.138573  -0.024031  0.647397\n",
       "1 -0.089380  0.063328 -0.032039 -0.967609  -0.014794  0.224696\n",
       "2  0.000861 -0.014672  0.119621  0.002783  -0.992197 -0.031810"
      ]
     },
     "execution_count": 26,
     "metadata": {},
     "output_type": "execute_result"
    }
   ],
   "source": [
    "pca_df=pd.DataFrame(pca3.components_,columns=dfcredit.columns)\n",
    "pca_df"
   ]
  },
  {
   "cell_type": "markdown",
   "metadata": {},
   "source": [
    "## In PCA-1 Balance is signficant followed by limit and income,In PCA-2 Age is significant,In PCA-3 Educations is significant"
   ]
  },
  {
   "cell_type": "code",
   "execution_count": 27,
   "metadata": {},
   "outputs": [
    {
     "data": {
      "image/png": "[encoded data removed]",
      "text/plain": [
       "<Figure size 720x720 with 2 Axes>"
      ]
     },
     "metadata": {
      "needs_background": "light"
     },
     "output_type": "display_data"
    }
   ],
   "source": [
    "import matplotlib.pyplot as plt\n",
    "%matplotlib inline\n",
    "plt.figure(figsize=(10,10))\n",
    "import seaborn as sns\n",
    "sns.heatmap(pca_df,cmap='viridis',annot= True)\n",
    "plt.show();"
   ]
  },
  {
   "cell_type": "code",
   "execution_count": 28,
   "metadata": {},
   "outputs": [
    {
     "data": {
      "text/plain": [
       "(400, 6)"
      ]
     },
     "execution_count": 28,
     "metadata": {},
     "output_type": "execute_result"
    }
   ],
   "source": [
    "dfcredit_scld.shape"
   ]
  },
  {
   "cell_type": "code",
   "execution_count": 31,
   "metadata": {},
   "outputs": [],
   "source": [
    "dfcredit_scld_trnsf=pca3.fit_transform(dfcredit_scld)"
   ]
  },
  {
   "cell_type": "code",
   "execution_count": 33,
   "metadata": {},
   "outputs": [
    {
     "data": {
      "text/html": [
       "<div>\n",
       "<style scoped>\n",
       "    .dataframe tbody tr th:only-of-type {\n",
       "        vertical-align: middle;\n",
       "    }\n",
       "\n",
       "    .dataframe tbody tr th {\n",
       "        vertical-align: top;\n",
       "    }\n",
       "\n",
       "    .dataframe thead th {\n",
       "        text-align: right;\n",
       "    }\n",
       "</style>\n",
       "<table border=\"1\" class=\"dataframe\">\n",
       "  <thead>\n",
       "    <tr style=\"text-align: right;\">\n",
       "      <th></th>\n",
       "      <th>P1</th>\n",
       "      <th>P2</th>\n",
       "      <th>P3</th>\n",
       "    </tr>\n",
       "  </thead>\n",
       "  <tbody>\n",
       "    <tr>\n",
       "      <th>0</th>\n",
       "      <td>-0.235632</td>\n",
       "      <td>0.274671</td>\n",
       "      <td>0.151035</td>\n",
       "    </tr>\n",
       "    <tr>\n",
       "      <th>1</th>\n",
       "      <td>0.426047</td>\n",
       "      <td>-0.319948</td>\n",
       "      <td>-0.108857</td>\n",
       "    </tr>\n",
       "    <tr>\n",
       "      <th>2</th>\n",
       "      <td>0.325638</td>\n",
       "      <td>-0.211587</td>\n",
       "      <td>0.174923</td>\n",
       "    </tr>\n",
       "    <tr>\n",
       "      <th>3</th>\n",
       "      <td>0.611168</td>\n",
       "      <td>0.276435</td>\n",
       "      <td>0.150048</td>\n",
       "    </tr>\n",
       "    <tr>\n",
       "      <th>4</th>\n",
       "      <td>-0.008957</td>\n",
       "      <td>-0.183658</td>\n",
       "      <td>-0.179654</td>\n",
       "    </tr>\n",
       "  </tbody>\n",
       "</table>\n",
       "</div>"
      ],
      "text/plain": [
       "         P1        P2        P3\n",
       "0 -0.235632  0.274671  0.151035\n",
       "1  0.426047 -0.319948 -0.108857\n",
       "2  0.325638 -0.211587  0.174923\n",
       "3  0.611168  0.276435  0.150048\n",
       "4 -0.008957 -0.183658 -0.179654"
      ]
     },
     "execution_count": 33,
     "metadata": {},
     "output_type": "execute_result"
    },
    {
     "data": {
      "text/plain": [
       "(400, 3)"
      ]
     },
     "execution_count": 33,
     "metadata": {},
     "output_type": "execute_result"
    }
   ],
   "source": [
    "dfcredit_clstr=pd.DataFrame(dfcredit_scld_trnsf,columns=('P1','P2','P3'))\n",
    "dfcredit_clstr.head()\n",
    "dfcredit_clstr.shape"
   ]
  },
  {
   "cell_type": "markdown",
   "metadata": {},
   "source": [
    "## Step-5: Cluster"
   ]
  },
  {
   "cell_type": "code",
   "execution_count": 34,
   "metadata": {},
   "outputs": [
    {
     "data": {
      "text/plain": [
       "KMeans(algorithm='auto', copy_x=True, init='k-means++', max_iter=300,\n",
       "    n_clusters=2, n_init=10, n_jobs=None, precompute_distances='auto',\n",
       "    random_state=None, tol=0.0001, verbose=0)"
      ]
     },
     "execution_count": 34,
     "metadata": {},
     "output_type": "execute_result"
    },
    {
     "data": {
      "text/plain": [
       "KMeans(algorithm='auto', copy_x=True, init='k-means++', max_iter=300,\n",
       "    n_clusters=3, n_init=10, n_jobs=None, precompute_distances='auto',\n",
       "    random_state=None, tol=0.0001, verbose=0)"
      ]
     },
     "execution_count": 34,
     "metadata": {},
     "output_type": "execute_result"
    },
    {
     "data": {
      "text/plain": [
       "KMeans(algorithm='auto', copy_x=True, init='k-means++', max_iter=300,\n",
       "    n_clusters=4, n_init=10, n_jobs=None, precompute_distances='auto',\n",
       "    random_state=None, tol=0.0001, verbose=0)"
      ]
     },
     "execution_count": 34,
     "metadata": {},
     "output_type": "execute_result"
    },
    {
     "data": {
      "text/plain": [
       "KMeans(algorithm='auto', copy_x=True, init='k-means++', max_iter=300,\n",
       "    n_clusters=5, n_init=10, n_jobs=None, precompute_distances='auto',\n",
       "    random_state=None, tol=0.0001, verbose=0)"
      ]
     },
     "execution_count": 34,
     "metadata": {},
     "output_type": "execute_result"
    },
    {
     "data": {
      "text/plain": [
       "KMeans(algorithm='auto', copy_x=True, init='k-means++', max_iter=300,\n",
       "    n_clusters=6, n_init=10, n_jobs=None, precompute_distances='auto',\n",
       "    random_state=None, tol=0.0001, verbose=0)"
      ]
     },
     "execution_count": 34,
     "metadata": {},
     "output_type": "execute_result"
    },
    {
     "data": {
      "text/plain": [
       "KMeans(algorithm='auto', copy_x=True, init='k-means++', max_iter=300,\n",
       "    n_clusters=7, n_init=10, n_jobs=None, precompute_distances='auto',\n",
       "    random_state=None, tol=0.0001, verbose=0)"
      ]
     },
     "execution_count": 34,
     "metadata": {},
     "output_type": "execute_result"
    },
    {
     "data": {
      "text/plain": [
       "KMeans(algorithm='auto', copy_x=True, init='k-means++', max_iter=300,\n",
       "    n_clusters=8, n_init=10, n_jobs=None, precompute_distances='auto',\n",
       "    random_state=None, tol=0.0001, verbose=0)"
      ]
     },
     "execution_count": 34,
     "metadata": {},
     "output_type": "execute_result"
    },
    {
     "data": {
      "text/plain": [
       "KMeans(algorithm='auto', copy_x=True, init='k-means++', max_iter=300,\n",
       "    n_clusters=9, n_init=10, n_jobs=None, precompute_distances='auto',\n",
       "    random_state=None, tol=0.0001, verbose=0)"
      ]
     },
     "execution_count": 34,
     "metadata": {},
     "output_type": "execute_result"
    },
    {
     "data": {
      "text/html": [
       "<div>\n",
       "<style scoped>\n",
       "    .dataframe tbody tr th:only-of-type {\n",
       "        vertical-align: middle;\n",
       "    }\n",
       "\n",
       "    .dataframe tbody tr th {\n",
       "        vertical-align: top;\n",
       "    }\n",
       "\n",
       "    .dataframe thead th {\n",
       "        text-align: right;\n",
       "    }\n",
       "</style>\n",
       "<table border=\"1\" class=\"dataframe\">\n",
       "  <thead>\n",
       "    <tr style=\"text-align: right;\">\n",
       "      <th></th>\n",
       "      <th>Cluster_Number</th>\n",
       "      <th>Error_term</th>\n",
       "    </tr>\n",
       "  </thead>\n",
       "  <tbody>\n",
       "    <tr>\n",
       "      <th>0</th>\n",
       "      <td>2</td>\n",
       "      <td>0.527172</td>\n",
       "    </tr>\n",
       "    <tr>\n",
       "      <th>1</th>\n",
       "      <td>3</td>\n",
       "      <td>0.404032</td>\n",
       "    </tr>\n",
       "    <tr>\n",
       "      <th>2</th>\n",
       "      <td>4</td>\n",
       "      <td>0.341573</td>\n",
       "    </tr>\n",
       "    <tr>\n",
       "      <th>3</th>\n",
       "      <td>5</td>\n",
       "      <td>0.294010</td>\n",
       "    </tr>\n",
       "    <tr>\n",
       "      <th>4</th>\n",
       "      <td>6</td>\n",
       "      <td>0.254929</td>\n",
       "    </tr>\n",
       "    <tr>\n",
       "      <th>5</th>\n",
       "      <td>7</td>\n",
       "      <td>0.226194</td>\n",
       "    </tr>\n",
       "    <tr>\n",
       "      <th>6</th>\n",
       "      <td>8</td>\n",
       "      <td>0.208628</td>\n",
       "    </tr>\n",
       "    <tr>\n",
       "      <th>7</th>\n",
       "      <td>9</td>\n",
       "      <td>0.191484</td>\n",
       "    </tr>\n",
       "  </tbody>\n",
       "</table>\n",
       "</div>"
      ],
      "text/plain": [
       "   Cluster_Number  Error_term\n",
       "0               2    0.527172\n",
       "1               3    0.404032\n",
       "2               4    0.341573\n",
       "3               5    0.294010\n",
       "4               6    0.254929\n",
       "5               7    0.226194\n",
       "6               8    0.208628\n",
       "7               9    0.191484"
      ]
     },
     "execution_count": 34,
     "metadata": {},
     "output_type": "execute_result"
    }
   ],
   "source": [
    "#lets build clusters\n",
    "from sklearn.cluster import KMeans\n",
    "num_of_clusters= range(2,10)\n",
    "error = []\n",
    " \n",
    "for num_clusters in num_of_clusters:\n",
    "    clusters= KMeans(num_clusters)\n",
    "    clusters.fit(dfcredit_clstr)\n",
    "    error.append(clusters.inertia_/100)\n",
    "    \n",
    "df = pd.DataFrame({\"Cluster_Number\": num_of_clusters,\"Error_term\":error})\n",
    "df  "
   ]
  },
  {
   "cell_type": "code",
   "execution_count": 35,
   "metadata": {},
   "outputs": [],
   "source": [
    "## Cluster Prerequisite: Determine the optimum number of clusters required"
   ]
  },
  {
   "cell_type": "code",
   "execution_count": 36,
   "metadata": {},
   "outputs": [
    {
     "data": {
      "text/plain": [
       "<Figure size 720x720 with 0 Axes>"
      ]
     },
     "execution_count": 36,
     "metadata": {},
     "output_type": "execute_result"
    },
    {
     "data": {
      "text/plain": [
       "[<matplotlib.lines.Line2D at 0x26c07bd3470>]"
      ]
     },
     "execution_count": 36,
     "metadata": {},
     "output_type": "execute_result"
    },
    {
     "data": {
      "text/plain": [
       "Text(0.5, 0, 'Number of Cluster')"
      ]
     },
     "execution_count": 36,
     "metadata": {},
     "output_type": "execute_result"
    },
    {
     "data": {
      "text/plain": [
       "Text(0, 0.5, 'SSE')"
      ]
     },
     "execution_count": 36,
     "metadata": {},
     "output_type": "execute_result"
    },
    {
     "data": {
      "image/png": "[encoded data removed]",
      "text/plain": [
       "<Figure size 720x720 with 1 Axes>"
      ]
     },
     "metadata": {
      "needs_background": "light"
     },
     "output_type": "display_data"
    }
   ],
   "source": [
    "#find out the right number of clusters\n",
    "plt.figure(figsize=(10,10))\n",
    "plt.plot(df.Cluster_Number,df.Error_term,marker=\"D\",color='red')\n",
    "plt.xlabel('Number of Cluster')\n",
    "plt.ylabel('SSE')\n",
    "plt.show()"
   ]
  },
  {
   "cell_type": "code",
   "execution_count": 72,
   "metadata": {},
   "outputs": [
    {
     "data": {
      "text/plain": [
       "KMeans(algorithm='auto', copy_x=True, init='k-means++', max_iter=300,\n",
       "    n_clusters=3, n_init=10, n_jobs=None, precompute_distances='auto',\n",
       "    random_state=None, tol=0.0001, verbose=0)"
      ]
     },
     "execution_count": 72,
     "metadata": {},
     "output_type": "execute_result"
    },
    {
     "data": {
      "text/plain": [
       "array([0, 1, 1, 1, 2, 1, 0, 1, 2, 1, 1, 2, 0, 1, 2, 2, 2, 2, 0, 0, 2, 1,\n",
       "       2, 0, 2, 0, 0, 0, 1, 0, 0, 0, 1, 0, 0, 0, 1, 1, 0, 0, 2, 1, 2, 0,\n",
       "       0, 1, 1, 0, 2, 0, 0, 0, 0, 1, 0, 2, 2, 2, 2, 2, 0, 2, 2, 2, 2, 0,\n",
       "       1, 2, 2, 1, 2, 1, 0, 0, 0, 0, 2, 0, 1, 2, 0, 2, 2, 0, 2, 1, 0, 2,\n",
       "       0, 1, 0, 0, 2, 0, 0, 2, 1, 2, 2, 1, 0, 2, 1, 1, 0, 2, 2, 2, 1, 0,\n",
       "       2, 2, 0, 0, 0, 2, 2, 1, 0, 2, 2, 1, 1, 2, 0, 0, 1, 2, 1, 2, 0, 2,\n",
       "       0, 1, 2, 2, 2, 0, 2, 1, 0, 0, 1, 2, 0, 0, 0, 2, 2, 0, 0, 2, 0, 0,\n",
       "       0, 0, 2, 1, 2, 2, 2, 2, 1, 2, 0, 0, 0, 0, 0, 0, 2, 2, 2, 0, 1, 2,\n",
       "       0, 0, 0, 1, 2, 2, 1, 0, 1, 0, 2, 2, 1, 2, 0, 1, 2, 1, 2, 2, 1, 2,\n",
       "       2, 0, 0, 1, 2, 1, 0, 0, 2, 0, 0, 1, 2, 0, 2, 0, 2, 2, 2, 2, 2, 2,\n",
       "       1, 1, 1, 2, 1, 0, 1, 0, 0, 1, 0, 0, 0, 2, 1, 0, 0, 0, 2, 0, 2, 0,\n",
       "       2, 1, 2, 2, 2, 2, 0, 0, 2, 2, 1, 2, 1, 0, 2, 2, 0, 1, 2, 1, 2, 2,\n",
       "       0, 0, 2, 0, 2, 0, 0, 0, 0, 0, 1, 1, 0, 0, 1, 2, 0, 0, 1, 1, 2, 0,\n",
       "       2, 2, 0, 0, 2, 2, 0, 1, 0, 2, 0, 2, 2, 2, 0, 0, 0, 2, 1, 2, 2, 0,\n",
       "       0, 0, 0, 0, 2, 1, 1, 0, 1, 2, 2, 2, 2, 0, 0, 1, 2, 2, 1, 1, 2, 1,\n",
       "       2, 0, 2, 2, 2, 0, 1, 0, 0, 1, 0, 2, 0, 0, 0, 0, 0, 1, 2, 2, 2, 2,\n",
       "       1, 0, 0, 1, 0, 0, 2, 2, 1, 0, 2, 1, 1, 1, 1, 2, 0, 1, 0, 2, 0, 0,\n",
       "       2, 0, 1, 2, 0, 2, 1, 1, 0, 2, 2, 0, 2, 2, 1, 1, 1, 0, 0, 2, 0, 0,\n",
       "       2, 2, 0, 1])"
      ]
     },
     "execution_count": 72,
     "metadata": {},
     "output_type": "execute_result"
    }
   ],
   "source": [
    "#build with 3 clusters\n",
    "clusters = KMeans(3)\n",
    "clusters.fit(dfcredit_clstr)\n",
    "clusters.labels_"
   ]
  },
  {
   "cell_type": "markdown",
   "metadata": {},
   "source": [
    "## Attach this cluster label column to the original credit Data Frame"
   ]
  },
  {
   "cell_type": "code",
   "execution_count": 73,
   "metadata": {},
   "outputs": [
    {
     "data": {
      "text/html": [
       "<div>\n",
       "<style scoped>\n",
       "    .dataframe tbody tr th:only-of-type {\n",
       "        vertical-align: middle;\n",
       "    }\n",
       "\n",
       "    .dataframe tbody tr th {\n",
       "        vertical-align: top;\n",
       "    }\n",
       "\n",
       "    .dataframe thead th {\n",
       "        text-align: right;\n",
       "    }\n",
       "</style>\n",
       "<table border=\"1\" class=\"dataframe\">\n",
       "  <thead>\n",
       "    <tr style=\"text-align: right;\">\n",
       "      <th></th>\n",
       "      <th>Income</th>\n",
       "      <th>Limit</th>\n",
       "      <th>Cards</th>\n",
       "      <th>Age</th>\n",
       "      <th>Education</th>\n",
       "      <th>Balance</th>\n",
       "      <th>cluster</th>\n",
       "    </tr>\n",
       "  </thead>\n",
       "  <tbody>\n",
       "    <tr>\n",
       "      <th>0</th>\n",
       "      <td>14.891</td>\n",
       "      <td>3606</td>\n",
       "      <td>2</td>\n",
       "      <td>34</td>\n",
       "      <td>11</td>\n",
       "      <td>333</td>\n",
       "      <td>0</td>\n",
       "    </tr>\n",
       "    <tr>\n",
       "      <th>1</th>\n",
       "      <td>106.025</td>\n",
       "      <td>6645</td>\n",
       "      <td>3</td>\n",
       "      <td>82</td>\n",
       "      <td>15</td>\n",
       "      <td>903</td>\n",
       "      <td>1</td>\n",
       "    </tr>\n",
       "    <tr>\n",
       "      <th>2</th>\n",
       "      <td>104.593</td>\n",
       "      <td>7075</td>\n",
       "      <td>4</td>\n",
       "      <td>71</td>\n",
       "      <td>11</td>\n",
       "      <td>580</td>\n",
       "      <td>1</td>\n",
       "    </tr>\n",
       "    <tr>\n",
       "      <th>3</th>\n",
       "      <td>148.924</td>\n",
       "      <td>9504</td>\n",
       "      <td>3</td>\n",
       "      <td>36</td>\n",
       "      <td>11</td>\n",
       "      <td>964</td>\n",
       "      <td>1</td>\n",
       "    </tr>\n",
       "    <tr>\n",
       "      <th>4</th>\n",
       "      <td>55.882</td>\n",
       "      <td>4897</td>\n",
       "      <td>2</td>\n",
       "      <td>68</td>\n",
       "      <td>16</td>\n",
       "      <td>331</td>\n",
       "      <td>2</td>\n",
       "    </tr>\n",
       "  </tbody>\n",
       "</table>\n",
       "</div>"
      ],
      "text/plain": [
       "    Income  Limit  Cards  Age  Education  Balance  cluster\n",
       "0   14.891   3606      2   34         11      333        0\n",
       "1  106.025   6645      3   82         15      903        1\n",
       "2  104.593   7075      4   71         11      580        1\n",
       "3  148.924   9504      3   36         11      964        1\n",
       "4   55.882   4897      2   68         16      331        2"
      ]
     },
     "execution_count": 73,
     "metadata": {},
     "output_type": "execute_result"
    },
    {
     "data": {
      "text/html": [
       "<div>\n",
       "<style scoped>\n",
       "    .dataframe tbody tr th:only-of-type {\n",
       "        vertical-align: middle;\n",
       "    }\n",
       "\n",
       "    .dataframe tbody tr th {\n",
       "        vertical-align: top;\n",
       "    }\n",
       "\n",
       "    .dataframe thead th {\n",
       "        text-align: right;\n",
       "    }\n",
       "</style>\n",
       "<table border=\"1\" class=\"dataframe\">\n",
       "  <thead>\n",
       "    <tr style=\"text-align: right;\">\n",
       "      <th></th>\n",
       "      <th>Income</th>\n",
       "      <th>Limit</th>\n",
       "      <th>Cards</th>\n",
       "      <th>Age</th>\n",
       "      <th>Education</th>\n",
       "      <th>Balance</th>\n",
       "      <th>cluster</th>\n",
       "    </tr>\n",
       "  </thead>\n",
       "  <tbody>\n",
       "    <tr>\n",
       "      <th>395</th>\n",
       "      <td>12.096</td>\n",
       "      <td>4100</td>\n",
       "      <td>3</td>\n",
       "      <td>32</td>\n",
       "      <td>13</td>\n",
       "      <td>560</td>\n",
       "      <td>0</td>\n",
       "    </tr>\n",
       "    <tr>\n",
       "      <th>396</th>\n",
       "      <td>13.364</td>\n",
       "      <td>3838</td>\n",
       "      <td>5</td>\n",
       "      <td>65</td>\n",
       "      <td>17</td>\n",
       "      <td>480</td>\n",
       "      <td>2</td>\n",
       "    </tr>\n",
       "    <tr>\n",
       "      <th>397</th>\n",
       "      <td>57.872</td>\n",
       "      <td>4171</td>\n",
       "      <td>5</td>\n",
       "      <td>67</td>\n",
       "      <td>12</td>\n",
       "      <td>138</td>\n",
       "      <td>2</td>\n",
       "    </tr>\n",
       "    <tr>\n",
       "      <th>398</th>\n",
       "      <td>37.728</td>\n",
       "      <td>2525</td>\n",
       "      <td>1</td>\n",
       "      <td>44</td>\n",
       "      <td>13</td>\n",
       "      <td>0</td>\n",
       "      <td>0</td>\n",
       "    </tr>\n",
       "    <tr>\n",
       "      <th>399</th>\n",
       "      <td>18.701</td>\n",
       "      <td>5524</td>\n",
       "      <td>5</td>\n",
       "      <td>64</td>\n",
       "      <td>7</td>\n",
       "      <td>966</td>\n",
       "      <td>1</td>\n",
       "    </tr>\n",
       "  </tbody>\n",
       "</table>\n",
       "</div>"
      ],
      "text/plain": [
       "     Income  Limit  Cards  Age  Education  Balance  cluster\n",
       "395  12.096   4100      3   32         13      560        0\n",
       "396  13.364   3838      5   65         17      480        2\n",
       "397  57.872   4171      5   67         12      138        2\n",
       "398  37.728   2525      1   44         13        0        0\n",
       "399  18.701   5524      5   64          7      966        1"
      ]
     },
     "execution_count": 73,
     "metadata": {},
     "output_type": "execute_result"
    }
   ],
   "source": [
    "dfcredit['cluster'] = clusters.labels_\n",
    "dfcredit.head()\n",
    "dfcredit.tail()"
   ]
  },
  {
   "cell_type": "code",
   "execution_count": 74,
   "metadata": {},
   "outputs": [],
   "source": [
    "cluster={'0':'Hi','1':'Hello','2':'Welcome'}"
   ]
  },
  {
   "cell_type": "code",
   "execution_count": 75,
   "metadata": {
    "scrolled": true
   },
   "outputs": [
    {
     "data": {
      "text/html": [
       "<div>\n",
       "<style scoped>\n",
       "    .dataframe tbody tr th:only-of-type {\n",
       "        vertical-align: middle;\n",
       "    }\n",
       "\n",
       "    .dataframe tbody tr th {\n",
       "        vertical-align: top;\n",
       "    }\n",
       "\n",
       "    .dataframe thead th {\n",
       "        text-align: right;\n",
       "    }\n",
       "</style>\n",
       "<table border=\"1\" class=\"dataframe\">\n",
       "  <thead>\n",
       "    <tr style=\"text-align: right;\">\n",
       "      <th></th>\n",
       "      <th>Age</th>\n",
       "      <th>Balance</th>\n",
       "      <th>Cards</th>\n",
       "      <th>Education</th>\n",
       "      <th>Income</th>\n",
       "      <th>Limit</th>\n",
       "    </tr>\n",
       "    <tr>\n",
       "      <th>cluster</th>\n",
       "      <th></th>\n",
       "      <th></th>\n",
       "      <th></th>\n",
       "      <th></th>\n",
       "      <th></th>\n",
       "      <th></th>\n",
       "    </tr>\n",
       "  </thead>\n",
       "  <tbody>\n",
       "    <tr>\n",
       "      <th>0</th>\n",
       "      <td>39</td>\n",
       "      <td>483.5</td>\n",
       "      <td>3</td>\n",
       "      <td>14</td>\n",
       "      <td>28.1575</td>\n",
       "      <td>4525</td>\n",
       "    </tr>\n",
       "    <tr>\n",
       "      <th>1</th>\n",
       "      <td>66</td>\n",
       "      <td>1081.0</td>\n",
       "      <td>3</td>\n",
       "      <td>13</td>\n",
       "      <td>82.7060</td>\n",
       "      <td>7518</td>\n",
       "    </tr>\n",
       "    <tr>\n",
       "      <th>2</th>\n",
       "      <td>68</td>\n",
       "      <td>108.0</td>\n",
       "      <td>3</td>\n",
       "      <td>14</td>\n",
       "      <td>27.3490</td>\n",
       "      <td>3271</td>\n",
       "    </tr>\n",
       "  </tbody>\n",
       "</table>\n",
       "</div>"
      ],
      "text/plain": [
       "         Age  Balance  Cards  Education   Income  Limit\n",
       "cluster                                                \n",
       "0         39    483.5      3         14  28.1575   4525\n",
       "1         66   1081.0      3         13  82.7060   7518\n",
       "2         68    108.0      3         14  27.3490   3271"
      ]
     },
     "execution_count": 75,
     "metadata": {},
     "output_type": "execute_result"
    }
   ],
   "source": [
    "dfcredit_pivot=pd.pivot_table(dfcredit,index='cluster',aggfunc=np.median)\n",
    "dfcredit_pivot"
   ]
  },
  {
   "cell_type": "code",
   "execution_count": 76,
   "metadata": {},
   "outputs": [
    {
     "data": {
      "text/plain": [
       "cluster\n",
       "0    156\n",
       "1     93\n",
       "2    151\n",
       "dtype: int64"
      ]
     },
     "execution_count": 76,
     "metadata": {},
     "output_type": "execute_result"
    }
   ],
   "source": [
    "dfcredit.groupby('cluster').size()"
   ]
  },
  {
   "cell_type": "code",
   "execution_count": 77,
   "metadata": {},
   "outputs": [
    {
     "data": {
      "image/png": "[encoded data removed]",
      "text/plain": [
       "<Figure size 360x360 with 1 Axes>"
      ]
     },
     "metadata": {
      "needs_background": "light"
     },
     "output_type": "display_data"
    },
    {
     "data": {
      "image/png": "[encoded data removed]",
      "text/plain": [
       "<Figure size 360x360 with 1 Axes>"
      ]
     },
     "metadata": {
      "needs_background": "light"
     },
     "output_type": "display_data"
    },
    {
     "data": {
      "image/png": "[encoded data removed]",
      "text/plain": [
       "<Figure size 360x360 with 1 Axes>"
      ]
     },
     "metadata": {
      "needs_background": "light"
     },
     "output_type": "display_data"
    }
   ],
   "source": [
    "#Plots to study cluster response to Age\n",
    "facet = sns.lmplot(data=dfcredit, x='cluster', y='Age', hue='cluster', \n",
    "                   fit_reg=False, legend=False)\n",
    "leg = facet.ax.legend(bbox_to_anchor=[1, 0.75],\n",
    "                         title=\"label\", fancybox=True)\n",
    "\n",
    "#Plots to study cluster response to Balance\n",
    "facet = sns.lmplot(data=dfcredit, x='cluster', y='Balance', hue='cluster', \n",
    "                   fit_reg=False, legend=False)\n",
    "leg = facet.ax.legend(bbox_to_anchor=[1, 0.75],\n",
    "                         title=\"label\", fancybox=True)\n",
    "\n",
    "#Plots to study cluster response to Cards\n",
    "facet = sns.lmplot(data=dfcredit, x='cluster', y='Cards', hue='cluster', \n",
    "                   fit_reg=False, legend=False)\n",
    "leg = facet.ax.legend(bbox_to_anchor=[1, 0.75],\n",
    "                         title=\"label\", fancybox=True)\n",
    "\n"
   ]
  },
  {
   "cell_type": "code",
   "execution_count": 78,
   "metadata": {},
   "outputs": [
    {
     "data": {
      "image/png": "[encoded data removed]",
      "text/plain": [
       "<Figure size 360x360 with 1 Axes>"
      ]
     },
     "metadata": {
      "needs_background": "light"
     },
     "output_type": "display_data"
    },
    {
     "data": {
      "image/png": "[encoded data removed]",
      "text/plain": [
       "<Figure size 360x360 with 1 Axes>"
      ]
     },
     "metadata": {
      "needs_background": "light"
     },
     "output_type": "display_data"
    },
    {
     "data": {
      "image/png": "[encoded data removed]",
      "text/plain": [
       "<Figure size 360x360 with 1 Axes>"
      ]
     },
     "metadata": {
      "needs_background": "light"
     },
     "output_type": "display_data"
    }
   ],
   "source": [
    "\n",
    "#Plots to study cluster response to Education\n",
    "facet = sns.lmplot(data=dfcredit, x='cluster', y='Education', hue='cluster', \n",
    "                   fit_reg=False, legend=False)\n",
    "leg = facet.ax.legend(bbox_to_anchor=[1, 0.75],\n",
    "                         title=\"label\", fancybox=True)\n",
    "\n",
    "#Plots to study cluster response to Income\n",
    "facet = sns.lmplot(data=dfcredit, x='cluster', y='Income', hue='cluster', \n",
    "                   fit_reg=False, legend=False)\n",
    "leg = facet.ax.legend(bbox_to_anchor=[1, 0.75],\n",
    "                         title=\"label\", fancybox=True)\n",
    "\n",
    "#Plots to study cluster response to Limit\n",
    "facet = sns.lmplot(data=dfcredit, x='cluster', y='Limit', hue='cluster', \n",
    "                   fit_reg=False, legend=False)\n",
    "leg = facet.ax.legend(bbox_to_anchor=[1, 0.75],\n",
    "                         title=\"label\", fancybox=True)"
   ]
  },
  {
   "cell_type": "markdown",
   "metadata": {},
   "source": [
    "## Cluster 1- (Riskless MASS)-\n",
    "## Riskless-credit to Middle aged group and Senior Smaritans,This Cluster focusses Middle aged group and senior citizen but credit limit is less and low income group with low balance benefits from this cluster, but credit limit is less hence risk free\n",
    "\n",
    "\n",
    "\n",
    "## Cluster 2 (YAMA-Young Adults to Middle Aged)\n",
    "## Targets Young Adults to Middle Aged group,with appropriate Credit limit who have appropriate income and Balance\n",
    "\n",
    "## Cluster 3 (EGC-Every one gets credit)\n",
    "## In this Cluster all age groups get credit (no barrier on age group) but credit limit will be appropriate to income and balance\n"
   ]
  },
  {
   "cell_type": "code",
   "execution_count": null,
   "metadata": {},
   "outputs": [],
   "source": []
  }
 ],
 "metadata": {
  "kernelspec": {
   "display_name": "Python 3",
   "language": "python",
   "name": "python3"
  },
  "language_info": {
   "codemirror_mode": {
    "name": "ipython",
    "version": 3
   },
   "file_extension": ".py",
   "mimetype": "text/x-python",
   "name": "python",
   "nbconvert_exporter": "python",
   "pygments_lexer": "ipython3",
   "version": "3.7.1"
  }
 },
 "nbformat": 4,
 "nbformat_minor": 2
}
